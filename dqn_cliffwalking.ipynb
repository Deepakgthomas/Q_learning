{
 "cells": [
  {
   "cell_type": "code",
   "execution_count": 100,
   "id": "2f30013f",
   "metadata": {},
   "outputs": [],
   "source": [
    "# Here we import all libraries\n",
    "import numpy as np\n",
    "import gym\n",
    "import matplotlib.pyplot as plt\n",
    "import os\n",
    "import torch\n",
    "import random\n",
    "from torch import nn\n",
    "from torch.utils.data import DataLoader\n",
    "from torchvision import datasets, transforms\n",
    "from collections import deque \n",
    "import sys\n",
    "env = gym.make(\"CartPole-v0\")"
   ]
  },
  {
   "cell_type": "code",
   "execution_count": 101,
   "id": "63c20bea",
   "metadata": {},
   "outputs": [],
   "source": [
    "#Hyperparameters\n",
    "episodes = 5000\n",
    "eps = 1.0\n",
    "learning_rate = 0.1\n",
    "discount_factor = 0.99\n",
    "tot_rewards = []\n",
    "decay_val = 0.001\n",
    "mem_size = 50000\n",
    "batch_size = 200\n",
    "gamma = 0.99"
   ]
  },
  {
   "cell_type": "code",
   "execution_count": 102,
   "id": "356612d0",
   "metadata": {},
   "outputs": [],
   "source": [
    "class NeuralNetwork(nn.Module):\n",
    "    def __init__(self, state_size, action_size):\n",
    "        super(NeuralNetwork, self).__init__()\n",
    "        self.state_size = state_size\n",
    "        self.action_size = action_size\n",
    "        self.linear_relu_stack = nn.Sequential(\n",
    "            nn.Linear(4, 30),\n",
    "            nn.ReLU(),\n",
    "            nn.Linear(30, 30),\n",
    "            nn.ReLU(),\n",
    "            nn.Linear(30, action_size)\n",
    "        )\n",
    "    def forward(self, x):\n",
    "        x = self.linear_relu_stack(x)\n",
    "        return x"
   ]
  },
  {
   "cell_type": "code",
   "execution_count": 103,
   "id": "2a48df98",
   "metadata": {},
   "outputs": [],
   "source": [
    "model = NeuralNetwork(env.observation_space.shape[0], env.action_space.n)\n",
    "opt = torch.optim.Adam(params=model.parameters(), lr=learning_rate)\n",
    "loss = nn.MSELoss()\n",
    "replay_buffer = deque(maxlen=mem_size)"
   ]
  },
  {
   "cell_type": "code",
   "execution_count": 104,
   "id": "5f5953d9",
   "metadata": {},
   "outputs": [],
   "source": [
    "state = torch.tensor(env.reset(), dtype=torch.float32)\n",
    "state = state.unsqueeze(dim=0)\n",
    "out = model(state)"
   ]
  },
  {
   "cell_type": "code",
   "execution_count": 105,
   "id": "9582dac6",
   "metadata": {},
   "outputs": [],
   "source": [
    "def compute_td_loss(batch_size):\n",
    "    state, next_state, reward, done, action = zip(*random.sample(replay_buffer, batch_size))\n",
    "    print(\"state = \", state)\n",
    "    state = torch.from_numpy(np.array(state).reshape(-1, 1)).unsqueeze(dim = 0).type(torch.float32)\n",
    "    next_state = torch.from_numpy(np.array(next_state).reshape(-1, 1)).unsqueeze(dim = 0).type(torch.float32)\n",
    "    reward = torch.from_numpy(np.array(reward))\n",
    "    done = torch.from_numpy(np.array(done))\n",
    "    action = torch.from_numpy(np.array(action)).type(torch.int64)\n",
    "    print(\"state = \", state)\n",
    "    q_values = model(state)\n",
    "    next_q_values = model(next_state)\n",
    "    q_vals = q_values.squeeze().gather(dim=-1, index=action.reshape(-1,1)).reshape(1, -1)\n",
    "    max_next_q_values = torch.max(next_q_values,2)[0].detach()\n",
    "\n",
    "    loss = 0.5*((reward + gamma*max_next_q_values - q_vals)**2).mean()\n",
    "\n",
    "    opt.zero_grad()\n",
    "    loss.backward()\n",
    "    opt.step()\n",
    "    return loss\n",
    "    "
   ]
  },
  {
   "cell_type": "code",
   "execution_count": 106,
   "id": "6d21954b",
   "metadata": {},
   "outputs": [
    {
     "name": "stdout",
     "output_type": "stream",
     "text": [
      "Episode =  0\n"
     ]
    },
    {
     "data": {
      "image/png": "[encoded data removed]",
      "text/plain": [
       "<Figure size 432x288 with 1 Axes>"
      ]
     },
     "metadata": {
      "needs_background": "light"
     },
     "output_type": "display_data"
    },
    {
     "name": "stdout",
     "output_type": "stream",
     "text": [
      "Episode =  1\n",
      "Episode =  2\n",
      "Episode =  3\n",
      "Episode =  4\n",
      "Episode =  5\n",
      "Episode =  6\n",
      "Episode =  7\n",
      "Episode =  8\n",
      "Episode =  9\n",
      "Episode =  10\n",
      "Episode =  11\n",
      "state =  (array([ 0.07921819,  1.0160968 , -0.07208857, -1.5208706 ], dtype=float32), array([ 0.14834575,  0.96299255, -0.17177689, -1.6100773 ], dtype=float32), array([-0.01217928,  0.16982079, -0.01237666, -0.25308505], dtype=float32), array([ 0.03269401,  0.03590543, -0.0193199 ,  0.04614834], dtype=float32), tensor([[ 0.0283,  0.7573, -0.0741, -1.1807]]), array([-0.01989091,  0.63054943, -0.08431594, -1.0088893 ], dtype=float32), array([ 0.01327607,  0.65648323, -0.13110036, -1.364099  ], dtype=float32), array([ 0.08720495,  0.95754635, -0.0738156 , -1.4729228 ], dtype=float32), array([-0.04675761,  0.23726988, -0.04248014, -0.35401   ], dtype=float32), array([-9.0299696e-02, -7.8691626e-01,  9.4244169e-04,  9.5368046e-01],\n",
      "      dtype=float32), array([ 0.01106145, -0.13526702, -0.03752597,  0.06463527], dtype=float32), array([-0.02212387,  0.26049593, -0.04264859, -0.64295185], dtype=float32), array([-0.05069952, -0.3981987 , -0.04160728,  0.40235636], dtype=float32), array([-0.1534287 , -0.98401654,  0.0739643 ,  1.292415  ], dtype=float32), array([0.03831643, 0.04301167, 0.00503287, 0.03223172], dtype=float32), array([ 0.00606447, -0.21048029,  0.05757022,  0.3741694 ], dtype=float32), array([ 0.00145304,  0.63304496, -0.11937033, -1.0674838 ], dtype=float32), array([ 0.05259991,  0.23797256, -0.01049459, -0.2569053 ], dtype=float32), array([ 0.01322696, -0.14660437, -0.04084114,  0.31498   ], dtype=float32), array([ 0.06281036,  0.8203916 , -0.04781666, -1.2135955 ], dtype=float32), array([ 0.03070447,  0.6364077 , -0.1686224 , -1.1495408 ], dtype=float32), array([ 0.07767764,  0.9560341 , -0.15231562, -1.5648358 ], dtype=float32), array([ 0.02259472,  0.05484103, -0.04371703, -0.11760365], dtype=float32), array([-0.02537388, -0.04233867, -0.04673253,  0.01443602], dtype=float32), array([ 0.02787221,  0.1757639 ,  0.01620299, -0.27104604], dtype=float32), array([ 0.03138749,  0.37065095,  0.01078207, -0.55857474], dtype=float32), array([-0.01166951, -0.02548865, -0.01325165,  0.04374926], dtype=float32), array([-0.03533234,  0.23636298,  0.03329375, -0.26768106], dtype=float32), tensor([[ 0.1016,  1.0202, -0.1540, -1.5260]]), array([ 0.00747287,  0.24583344, -0.02351623, -0.31915328], dtype=float32), array([ 0.00972908,  0.36575693, -0.04538672, -0.5641632 ], dtype=float32), array([ 0.01226901,  0.04789779, -0.04155499,  0.03569227], dtype=float32), array([ 0.06863202,  0.43424577, -0.0253547 , -0.57509   ], dtype=float32), array([ 0.04414698, -0.15760332, -0.02768403,  0.30337968], dtype=float32), tensor([[-0.0273, -0.1310, -0.0163, -0.0287]]), array([-0.02198519,  0.62571293,  0.01694653, -0.8334303 ], dtype=float32), array([-0.03428749, -0.60467017,  0.12494376,  1.0529678 ], dtype=float32), array([ 0.14414363,  1.214642  , -0.17072894, -1.9086554 ], dtype=float32), array([ 0.0380381 ,  0.03644452, -0.02344827,  0.03425686], dtype=float32), array([-0.00236619, -0.32800975, -0.03324707,  0.30498964], dtype=float32), array([ 0.15412961,  0.8324008 , -0.15017143, -1.3475599 ], dtype=float32), array([ 0.04049985,  0.04295992, -0.00214217,  0.03337307], dtype=float32), array([ 0.0270616 , -0.33243272, -0.05488201,  0.40306258], dtype=float32), array([ 0.00155985,  0.24526316, -0.01700024, -0.30653632], dtype=float32), array([-0.04531061,  0.04025035, -0.0462955 , -0.0192157 ], dtype=float32), array([ 0.04971823,  0.1754645 , -0.01674612, -0.26441944], dtype=float32), array([-0.02861492,  0.2596704 , -0.02337686, -0.6244082 ], dtype=float32), tensor([[ 0.1216,  0.5698, -0.1274, -0.9456]]), array([ 4.3937881e-02,  4.3310153e-01,  5.0032692e-04, -5.4974580e-01],\n",
      "      dtype=float32), array([-0.03095586, -0.04100802, -0.0406035 , -0.01494567], dtype=float32), array([-0.01811804, -0.13165464, -0.02138699, -0.01510248], dtype=float32), array([ 0.02825475, -0.01912688,  0.01587125,  0.01658736], dtype=float32), array([ 0.1539044 ,  0.97426385, -0.19378392, -1.5561789 ], dtype=float32), array([-0.00878287,  0.36511725, -0.01743836, -0.54964596], dtype=float32), array([ 0.05301409,  1.1632017 , -0.0437436 , -1.6883575 ], dtype=float32), array([ 0.04175296, -0.15690336, -0.02157452,  0.28788105], dtype=float32), array([ 0.03861489,  0.03851951, -0.0158169 , -0.01152745], dtype=float32), array([-0.02342151,  0.06488248, -0.03586502, -0.33917832], dtype=float32), array([ 0.02982518, -0.13817902, -0.05746296,  0.12904775], dtype=float32), array([-9.4709340e-03,  4.3036357e-01,  2.7792450e-04, -5.3546631e-01],\n",
      "      dtype=float32), tensor([[-0.0012,  0.2638, -0.0960, -0.7176]]), array([-0.0265026 , -0.4012646 , -0.0653185 ,  0.47073096], dtype=float32), array([-0.22423191, -1.572413  ,  0.17054603,  2.2598872 ], dtype=float32), array([ 0.03625784,  0.0389751 , -0.01052498, -0.0215774 ], dtype=float32), array([ 0.10635588,  0.7634003 , -0.10327405, -1.2041789 ], dtype=float32), array([-0.02209634, -0.01311371, -0.06793652, -0.06979902], dtype=float32), array([-0.00840051, -0.00450356,  0.04297515,  0.00167069], dtype=float32), array([-0.06240504, -0.9978179 ,  0.17364538,  1.716664  ], dtype=float32), array([ 0.05701555,  1.0176696 , -0.08922566, -1.4604398 ], dtype=float32), array([-0.02622066, -0.23676035, -0.04644381,  0.29201576], dtype=float32), tensor([[-0.0318,  0.1547, -0.0409, -0.3202]]), array([ 0.11123246,  0.4367859 , -0.08434674, -0.6329406 ], dtype=float32), array([ 0.111141  ,  0.97086453, -0.12854548, -1.4660021 ], dtype=float32), array([ 0.02614699,  0.05209491, -0.04900327, -0.05698526], dtype=float32), array([ 0.02718889, -0.14229141, -0.05014298,  0.21984302], dtype=float32), tensor([[ 0.0532,  0.3708, -0.0220, -0.5623]]), array([ 0.02041295, -0.13657708, -0.04682076,  0.09359422], dtype=float32), array([ 0.04343262,  0.44383892, -0.19161323, -0.9141249 ], dtype=float32), array([ 0.02121518,  0.24659042, -0.04228247, -0.33604044], dtype=float32), array([ 0.00185486, -0.40637076,  0.0650536 ,  0.6844346 ], dtype=float32), array([-0.10603802, -0.591807  ,  0.02001605,  0.66129375], dtype=float32), tensor([[-0.0299,  0.0643, -0.0168, -0.3265]]), array([ 0.01862378, -0.01369139,  0.03667163,  0.04419884], dtype=float32), array([-0.03650595, -0.01590371, -0.04225441, -0.00810763], dtype=float32), array([-0.17310904, -1.1799967 ,  0.0998126 ,  1.6073071 ], dtype=float32), array([ 0.1676056 ,  1.159677  , -0.20397843, -1.9510164 ], dtype=float32), array([ 0.01411394,  0.82952636, -0.14072001, -1.3951203 ], dtype=float32), array([-0.00469105, -0.00573175,  0.03746557,  0.02878227], dtype=float32), array([-0.02858141,  0.43452504, -0.07041803, -0.6948957 ], dtype=float32), array([-0.0586635 , -0.59270656, -0.03356015,  0.68163663], dtype=float32), array([ 0.01238954,  0.44128227, -0.02989929, -0.6191586 ], dtype=float32), tensor([[ 0.0720,  0.7618, -0.0505, -1.1648]]), array([-0.01157499, -0.3271525 , -0.02710709,  0.28600508], dtype=float32), array([ 0.12378038,  1.0181624 , -0.1392091 , -1.5759915 ], dtype=float32), array([ 0.03876699,  0.23189475, -0.02276313, -0.26573104], dtype=float32), array([ 0.04099492,  0.03790202, -0.02161643,  0.00209599], dtype=float32), array([ 0.01704421,  0.56148535, -0.05666998, -0.8707926 ], dtype=float32), array([ 0.01213915,  0.03112257, -0.01654418, -0.04460124], dtype=float32), array([ 0.08991122,  0.43511173, -0.05436952, -0.59477973], dtype=float32), array([-0.03335282,  0.23857082, -0.06275593, -0.3831048 ], dtype=float32), array([-0.04758917,  0.04157805, -0.04150964, -0.04852477], dtype=float32), array([ 0.06248716,  0.75952405, -0.1276146 , -1.2350507 ], dtype=float32), array([ 0.02541326, -0.1409273 , -0.04751064,  0.18968034], dtype=float32), array([ 0.02472884,  0.1762954 ,  0.02152738, -0.2828067 ], dtype=float32), array([-0.0445056 , -0.15417816, -0.04667981,  0.25850856], dtype=float32), array([ 0.14141342,  0.6358095 , -0.12982959, -1.017092  ], dtype=float32), array([ 0.01819952,  0.7728434 ,  0.00607043, -1.0999645 ], dtype=float32), array([ 0.00347245, -0.14553353, -0.02265137,  0.29114828], dtype=float32), array([-0.04201221,  0.4329693 , -0.04956034, -0.6597797 ], dtype=float32), array([ 0.03703734,  0.2342464 , -0.01095652, -0.3175624 ], dtype=float32), array([ 0.03917666,  0.23806109,  0.00567751, -0.25885904], dtype=float32), tensor([[ 0.0630,  0.0434, -0.0203,  0.0228]]), array([-0.01075352,  0.741977  , -0.0784677 , -1.2435156 ], dtype=float32), tensor([[-0.0368,  0.1798, -0.0424, -0.3138]]), array([-0.1376645 , -0.7882108 ,  0.05430065,  0.98318267], dtype=float32), tensor([[ 0.0574,  0.0430, -0.0156,  0.0324]]), array([-0.03322807,  0.37549767, -0.0486929 , -0.6195695 ], dtype=float32), array([ 0.02304797, -0.01283783,  0.02961998,  0.02535163], dtype=float32), array([-0.02167555,  0.54610115, -0.05981465, -0.9326523 ], dtype=float32), array([ 0.0405806 ,  0.82174796, -0.06627101, -1.1477331 ], dtype=float32), array([-0.00102901,  0.38339213,  0.03300425, -0.53229386], dtype=float32), tensor([[ 0.1330,  0.7663, -0.1463, -1.2754]]), array([ 0.17077762,  1.029057  , -0.17712262, -1.6832091 ], dtype=float32), tensor([[-0.0009,  0.6255, -0.0104, -0.8281]]), array([ 0.06064394,  0.56624556, -0.03328124, -0.8618795 ], dtype=float32), array([ 0.03365639,  0.96788496, -0.01592886, -1.3907367 ], dtype=float32), array([-0.12581354, -0.5925472 ,  0.04074152,  0.6779561 ], dtype=float32), array([-0.00148052,  0.56047976, -0.02843128, -0.84777176], dtype=float32), array([ 0.00408602,  0.93801326, -0.10333801, -1.559711  ], dtype=float32), array([-0.07051763, -0.397135  , -0.01992742,  0.37857965], dtype=float32), array([ 0.04172227,  0.42952266, -0.01730777, -0.6136804 ], dtype=float32), array([-0.00892639, -0.13243017, -0.02714728,  0.00200954], dtype=float32), array([-0.0823614 , -1.1944542 ,  0.20797867,  2.0579784 ], dtype=float32), array([ 0.02640573,  0.4632243 , -0.15838234, -1.1151315 ], dtype=float32), array([ 0.00646512,  0.05038753, -0.02313097, -0.01926294], dtype=float32), array([ 0.00663883,  0.5780347 ,  0.02235837, -0.8143973 ], dtype=float32), array([ 0.00835611, -0.32983142, -0.03623326,  0.34524634], dtype=float32), array([ 0.09954014,  1.2120122 , -0.10250598, -1.835156  ], dtype=float32), array([-0.0463809 , -0.8012073 ,  0.14600311,  1.3821133 ], dtype=float32), array([-0.07846033, -0.59196836, -0.01235583,  0.6649134 ], dtype=float32), array([ 0.05654799,  1.1374185 , -0.19320293, -1.970673  ], dtype=float32), array([ 0.04135905, -0.15213124, -0.00147471,  0.32537934], dtype=float32), array([ 0.13262773,  0.439285  , -0.11602454, -0.6902524 ], dtype=float32), array([-0.01559408,  0.26185864, -0.06278759, -0.6736545 ], dtype=float32), array([ 0.01164597,  0.82074463, -0.02699263, -1.124007  ], dtype=float32), array([ 0.07731693,  0.62971383, -0.0368565 , -0.8756513 ], dtype=float32), array([-0.11787416, -0.39696923,  0.03324192,  0.3749799 ], dtype=float32), array([ 0.04342053,  0.9533317 , -0.09770065, -1.4956975 ], dtype=float32), array([-0.00480568,  0.18883345,  0.03804122, -0.25184843], dtype=float32), array([-0.00727992,  0.43664795, -0.10449373, -0.7438299 ], dtype=float32), array([ 0.02870276,  0.05612112, -0.05454415, -0.14594099], dtype=float32), array([-0.02075113, -0.32646346, -0.02168904,  0.2707566 ], dtype=float32), array([ 0.12204742,  1.2167674 , -0.18454614, -1.8625004 ], dtype=float32), array([ 0.02369154,  0.2505612 , -0.0460691 , -0.42375213], dtype=float32), array([ 0.03567022,  0.6600303 , -0.18068497, -1.4530156 ], dtype=float32), array([ 0.0582194 ,  0.2383446 , -0.01498371, -0.26512483], dtype=float32), array([-0.00849058,  0.18997656,  0.04300856, -0.27714935], dtype=float32), tensor([[ 0.0388,  0.1754, -0.0004, -0.2625]]), array([ 0.07736894,  1.213765  , -0.11843446, -1.7796104 ], dtype=float32), array([-0.19670898, -1.3761469 ,  0.13195874,  1.9293642 ], dtype=float32), array([ 0.16843647,  1.0217249 , -0.20890205, -1.6734377 ], dtype=float32), array([ 0.1305583 ,  1.1673048 , -0.15786552, -1.7959198 ], dtype=float32), array([ 0.0127616 ,  0.2264778 , -0.0174362 , -0.34245774], dtype=float32), array([ 0.04230809,  0.37050682, -0.00563971, -0.5553202 ], dtype=float32), array([ 0.06385509,  0.23884659, -0.01983032, -0.2762191 ], dtype=float32), array([-0.00627255, -0.6023327 ,  0.0787423 ,  0.9968681 ], dtype=float32), array([-0.02868258,  0.35035187, -0.04730557, -0.6254542 ], dtype=float32), tensor([[ 0.0177, -0.3310, -0.0449,  0.3711]]), array([-0.0103569 ,  0.45779446, -0.07626069, -0.9854265 ], dtype=float32), array([ 0.00056177,  0.04990396, -0.01682841, -0.00859169], dtype=float32), array([ 0.07627813,  0.9686119 , -0.07751074, -1.4096085 ], dtype=float32), array([-0.02571811,  0.18108842, -0.06108429, -0.34261128], dtype=float32), array([ 0.01834995, -0.20931949,  0.03755561,  0.34822273], dtype=float32), array([-0.01831921, -0.7984143 ,  0.09867965,  1.3132054 ], dtype=float32), array([-0.02235862, -0.20719922, -0.0693325 ,  0.2006997 ], dtype=float32), array([ 0.09861345,  0.6309508 , -0.06626512, -0.90408105], dtype=float32), array([ 0.09679832,  0.7630256 , -0.18361233, -1.3232827 ], dtype=float32), array([-0.01691395,  0.06599355, -0.05550763, -0.36399847], dtype=float32), array([ 0.11996818,  0.63297695, -0.09700555, -0.95094955], dtype=float32), array([-0.03452789, -0.20528376, -0.05590389,  0.15819661], dtype=float32), array([ 0.02279122, -0.20837176,  0.03012701,  0.32723087], dtype=float32), array([-0.04662482, -0.20373514, -0.04408531,  0.12390132], dtype=float32), array([-0.00092478,  0.0613167 , -0.0285011 , -0.26042864], dtype=float32), array([ 0.02284628,  0.74426883, -0.13453223, -1.300972  ], dtype=float32), array([ 0.00407443,  0.46008202, -0.11032198, -1.0389193 ], dtype=float32), tensor([[ 0.0103, -0.3411, -0.0345,  0.5945]]), array([ 0.04340488,  0.03710495, -0.02807775,  0.01968617], dtype=float32), array([ 0.03341212,  0.23129901, -0.01839693, -0.25256702], dtype=float32), tensor([[-0.0386, -0.3996, -0.0527,  0.4327]]), array([ 0.00175948, -0.13421327, -0.02932833,  0.04136149], dtype=float32), array([ 0.01416356, -0.4049549 ,  0.04452006,  0.6525077 ], dtype=float32), array([ 0.02806086,  0.6259867 , -0.04947278, -0.8399114 ], dtype=float32), tensor([[-0.0306,  0.4310,  0.0279, -0.5497]]), array([-0.03616693,  0.04172953,  0.03300558,  0.01440821], dtype=float32), array([ 0.05031272,  0.62488216, -0.02958138, -0.91176397], dtype=float32), array([ 0.03938528, -0.15637209, -0.01604744,  0.2761234 ], dtype=float32), array([ 0.03773166,  0.94081676, -0.16055167, -1.6325632 ], dtype=float32), array([ 0.00030155, -0.13338704, -0.03370968,  0.02313018], dtype=float32), array([ 0.02434306,  0.0535101 , -0.04574612, -0.08822596], dtype=float32), array([ 0.02509908, -0.01851221,  0.02146685,  0.00302662], dtype=float32))\n"
     ]
    },
    {
     "name": "stderr",
     "output_type": "stream",
     "text": [
      "c:\\users\\thoma\\anaconda3\\envs\\custom_atari_env\\lib\\site-packages\\ipykernel_launcher.py:4: VisibleDeprecationWarning: Creating an ndarray from ragged nested sequences (which is a list-or-tuple of lists-or-tuples-or ndarrays with different lengths or shapes) is deprecated. If you meant to do this, you must specify 'dtype=object' when creating the ndarray\n",
      "  after removing the cwd from sys.path.\n"
     ]
    },
    {
     "ename": "TypeError",
     "evalue": "can't convert np.ndarray of type numpy.object_. The only supported types are: float64, float32, float16, complex64, complex128, int64, int32, int16, int8, uint8, and bool.",
     "output_type": "error",
     "traceback": [
      "\u001b[1;31m---------------------------------------------------------------------------\u001b[0m",
      "\u001b[1;31mTypeError\u001b[0m                                 Traceback (most recent call last)",
      "\u001b[1;32m<ipython-input-106-461004870b38>\u001b[0m in \u001b[0;36m<module>\u001b[1;34m\u001b[0m\n\u001b[0;32m     17\u001b[0m         \u001b[0mreplay_buffer\u001b[0m\u001b[1;33m.\u001b[0m\u001b[0mappend\u001b[0m\u001b[1;33m(\u001b[0m\u001b[1;33m(\u001b[0m\u001b[0mstate\u001b[0m\u001b[1;33m,\u001b[0m \u001b[0mnext_state\u001b[0m\u001b[1;33m,\u001b[0m \u001b[0mreward\u001b[0m\u001b[1;33m,\u001b[0m \u001b[0mdone\u001b[0m\u001b[1;33m,\u001b[0m \u001b[0maction\u001b[0m\u001b[1;33m)\u001b[0m\u001b[1;33m)\u001b[0m\u001b[1;33m\u001b[0m\u001b[1;33m\u001b[0m\u001b[0m\n\u001b[0;32m     18\u001b[0m         \u001b[1;32mif\u001b[0m \u001b[0mlen\u001b[0m\u001b[1;33m(\u001b[0m\u001b[0mreplay_buffer\u001b[0m\u001b[1;33m)\u001b[0m\u001b[1;33m>\u001b[0m\u001b[0mbatch_size\u001b[0m\u001b[1;33m:\u001b[0m\u001b[1;33m\u001b[0m\u001b[1;33m\u001b[0m\u001b[0m\n\u001b[1;32m---> 19\u001b[1;33m             \u001b[0mloss\u001b[0m \u001b[1;33m=\u001b[0m \u001b[0mcompute_td_loss\u001b[0m\u001b[1;33m(\u001b[0m\u001b[0mbatch_size\u001b[0m\u001b[1;33m)\u001b[0m\u001b[1;33m\u001b[0m\u001b[1;33m\u001b[0m\u001b[0m\n\u001b[0m\u001b[0;32m     20\u001b[0m         \u001b[0meps\u001b[0m \u001b[1;33m=\u001b[0m \u001b[0meps\u001b[0m\u001b[1;33m/\u001b[0m\u001b[1;33m(\u001b[0m\u001b[1;36m1\u001b[0m \u001b[1;33m+\u001b[0m \u001b[1;36m0.001\u001b[0m\u001b[1;33m)\u001b[0m\u001b[1;33m\u001b[0m\u001b[1;33m\u001b[0m\u001b[0m\n\u001b[0;32m     21\u001b[0m         \u001b[0meps_rew\u001b[0m \u001b[1;33m+=\u001b[0m \u001b[0mreward\u001b[0m\u001b[1;33m\u001b[0m\u001b[1;33m\u001b[0m\u001b[0m\n",
      "\u001b[1;32m<ipython-input-105-ae1542c1e491>\u001b[0m in \u001b[0;36mcompute_td_loss\u001b[1;34m(batch_size)\u001b[0m\n\u001b[0;32m      2\u001b[0m     \u001b[0mstate\u001b[0m\u001b[1;33m,\u001b[0m \u001b[0mnext_state\u001b[0m\u001b[1;33m,\u001b[0m \u001b[0mreward\u001b[0m\u001b[1;33m,\u001b[0m \u001b[0mdone\u001b[0m\u001b[1;33m,\u001b[0m \u001b[0maction\u001b[0m \u001b[1;33m=\u001b[0m \u001b[0mzip\u001b[0m\u001b[1;33m(\u001b[0m\u001b[1;33m*\u001b[0m\u001b[0mrandom\u001b[0m\u001b[1;33m.\u001b[0m\u001b[0msample\u001b[0m\u001b[1;33m(\u001b[0m\u001b[0mreplay_buffer\u001b[0m\u001b[1;33m,\u001b[0m \u001b[0mbatch_size\u001b[0m\u001b[1;33m)\u001b[0m\u001b[1;33m)\u001b[0m\u001b[1;33m\u001b[0m\u001b[1;33m\u001b[0m\u001b[0m\n\u001b[0;32m      3\u001b[0m     \u001b[0mprint\u001b[0m\u001b[1;33m(\u001b[0m\u001b[1;34m\"state = \"\u001b[0m\u001b[1;33m,\u001b[0m \u001b[0mstate\u001b[0m\u001b[1;33m)\u001b[0m\u001b[1;33m\u001b[0m\u001b[1;33m\u001b[0m\u001b[0m\n\u001b[1;32m----> 4\u001b[1;33m     \u001b[0mstate\u001b[0m \u001b[1;33m=\u001b[0m \u001b[0mtorch\u001b[0m\u001b[1;33m.\u001b[0m\u001b[0mfrom_numpy\u001b[0m\u001b[1;33m(\u001b[0m\u001b[0mnp\u001b[0m\u001b[1;33m.\u001b[0m\u001b[0marray\u001b[0m\u001b[1;33m(\u001b[0m\u001b[0mstate\u001b[0m\u001b[1;33m)\u001b[0m\u001b[1;33m.\u001b[0m\u001b[0mreshape\u001b[0m\u001b[1;33m(\u001b[0m\u001b[1;33m-\u001b[0m\u001b[1;36m1\u001b[0m\u001b[1;33m,\u001b[0m \u001b[1;36m1\u001b[0m\u001b[1;33m)\u001b[0m\u001b[1;33m)\u001b[0m\u001b[1;33m.\u001b[0m\u001b[0munsqueeze\u001b[0m\u001b[1;33m(\u001b[0m\u001b[0mdim\u001b[0m \u001b[1;33m=\u001b[0m \u001b[1;36m0\u001b[0m\u001b[1;33m)\u001b[0m\u001b[1;33m.\u001b[0m\u001b[0mtype\u001b[0m\u001b[1;33m(\u001b[0m\u001b[0mtorch\u001b[0m\u001b[1;33m.\u001b[0m\u001b[0mfloat32\u001b[0m\u001b[1;33m)\u001b[0m\u001b[1;33m\u001b[0m\u001b[1;33m\u001b[0m\u001b[0m\n\u001b[0m\u001b[0;32m      5\u001b[0m     \u001b[0mnext_state\u001b[0m \u001b[1;33m=\u001b[0m \u001b[0mtorch\u001b[0m\u001b[1;33m.\u001b[0m\u001b[0mfrom_numpy\u001b[0m\u001b[1;33m(\u001b[0m\u001b[0mnp\u001b[0m\u001b[1;33m.\u001b[0m\u001b[0marray\u001b[0m\u001b[1;33m(\u001b[0m\u001b[0mnext_state\u001b[0m\u001b[1;33m)\u001b[0m\u001b[1;33m.\u001b[0m\u001b[0mreshape\u001b[0m\u001b[1;33m(\u001b[0m\u001b[1;33m-\u001b[0m\u001b[1;36m1\u001b[0m\u001b[1;33m,\u001b[0m \u001b[1;36m1\u001b[0m\u001b[1;33m)\u001b[0m\u001b[1;33m)\u001b[0m\u001b[1;33m.\u001b[0m\u001b[0munsqueeze\u001b[0m\u001b[1;33m(\u001b[0m\u001b[0mdim\u001b[0m \u001b[1;33m=\u001b[0m \u001b[1;36m0\u001b[0m\u001b[1;33m)\u001b[0m\u001b[1;33m.\u001b[0m\u001b[0mtype\u001b[0m\u001b[1;33m(\u001b[0m\u001b[0mtorch\u001b[0m\u001b[1;33m.\u001b[0m\u001b[0mfloat32\u001b[0m\u001b[1;33m)\u001b[0m\u001b[1;33m\u001b[0m\u001b[1;33m\u001b[0m\u001b[0m\n\u001b[0;32m      6\u001b[0m     \u001b[0mreward\u001b[0m \u001b[1;33m=\u001b[0m \u001b[0mtorch\u001b[0m\u001b[1;33m.\u001b[0m\u001b[0mfrom_numpy\u001b[0m\u001b[1;33m(\u001b[0m\u001b[0mnp\u001b[0m\u001b[1;33m.\u001b[0m\u001b[0marray\u001b[0m\u001b[1;33m(\u001b[0m\u001b[0mreward\u001b[0m\u001b[1;33m)\u001b[0m\u001b[1;33m)\u001b[0m\u001b[1;33m\u001b[0m\u001b[1;33m\u001b[0m\u001b[0m\n",
      "\u001b[1;31mTypeError\u001b[0m: can't convert np.ndarray of type numpy.object_. The only supported types are: float64, float32, float16, complex64, complex128, int64, int32, int16, int8, uint8, and bool."
     ]
    }
   ],
   "source": [
    "for i in range(episodes):\n",
    "    print(\"Episode = \", i)\n",
    "    state = env.reset()\n",
    "#     print(\"state = \",state)\n",
    "    done = False\n",
    "    steps = 0\n",
    "    eps_rew = 0 \n",
    "    while not done and steps<50:\n",
    "        if np.random.uniform(0,1)<eps:\n",
    "            action = env.action_space.sample()\n",
    "\n",
    "        else:\n",
    "            state = torch.tensor(state, dtype=torch.float32)\n",
    "            state = state.unsqueeze(dim=0)\n",
    "            action = np.argmax(model(state).detach().numpy())\n",
    "        next_state, reward, done, info = env.step(action)\n",
    "        replay_buffer.append((state, next_state, reward, done, action))\n",
    "        if len(replay_buffer)>batch_size:\n",
    "            loss = compute_td_loss(batch_size)\n",
    "        eps = eps/(1 + 0.001)\n",
    "        eps_rew += reward \n",
    "        if done:\n",
    "            tot_rewards.append(eps_rew)\n",
    "            break\n",
    "        \n",
    "        state = next_state\n",
    "        steps += 1\n",
    "    tot_rewards.append(eps_rew)\n",
    "    \n",
    "    if(i%100)==0:\n",
    "        plt.plot(tot_rewards)\n",
    "        plt.show()"
   ]
  },
  {
   "cell_type": "code",
   "execution_count": 99,
   "id": "3190cdaf",
   "metadata": {},
   "outputs": [
    {
     "data": {
      "text/plain": [
       "[<matplotlib.lines.Line2D at 0x2db148ce828>]"
      ]
     },
     "execution_count": 99,
     "metadata": {},
     "output_type": "execute_result"
    },
    {
     "data": {
      "image/png": "[encoded data removed]",
      "text/plain": [
       "<Figure size 432x288 with 1 Axes>"
      ]
     },
     "metadata": {
      "needs_background": "light"
     },
     "output_type": "display_data"
    }
   ],
   "source": [
    "#Plot\n",
    "plt.plot(tot_rewards)"
   ]
  },
  {
   "cell_type": "code",
   "execution_count": 25,
   "id": "2878f86c",
   "metadata": {},
   "outputs": [
    {
     "name": "stdout",
     "output_type": "stream",
     "text": [
      "i =  0\n"
     ]
    },
    {
     "name": "stderr",
     "output_type": "stream",
     "text": [
      "c:\\users\\thoma\\anaconda3\\envs\\custom_atari_env\\lib\\site-packages\\gym\\core.py:58: DeprecationWarning: \u001b[33mWARN: You are calling render method, but you didn't specified the argument render_mode at environment initialization. To maintain backward compatibility, the environment will render in human mode.\n",
      "If you want to render in human mode, initialize the environment in this way: gym.make('EnvName', render_mode='human') and don't call the render method.\n",
      "See here for more information: https://www.gymlibrary.ml/content/api/\u001b[0m\n",
      "  \"You are calling render method, \"\n"
     ]
    },
    {
     "name": "stdout",
     "output_type": "stream",
     "text": [
      "action =  3\n",
      "i =  1\n"
     ]
    },
    {
     "name": "stderr",
     "output_type": "stream",
     "text": [
      "c:\\users\\thoma\\anaconda3\\envs\\custom_atari_env\\lib\\site-packages\\gym\\core.py:58: DeprecationWarning: \u001b[33mWARN: You are calling render method, but you didn't specified the argument render_mode at environment initialization. To maintain backward compatibility, the environment will render in human mode.\n",
      "If you want to render in human mode, initialize the environment in this way: gym.make('EnvName', render_mode='human') and don't call the render method.\n",
      "See here for more information: https://www.gymlibrary.ml/content/api/\u001b[0m\n",
      "  \"You are calling render method, \"\n"
     ]
    },
    {
     "name": "stdout",
     "output_type": "stream",
     "text": [
      "action =  3\n",
      "i =  2\n",
      "action =  3\n",
      "i =  3\n",
      "action =  3\n",
      "i =  4\n",
      "action =  3\n",
      "i =  5\n",
      "action =  3\n",
      "i =  6\n",
      "action =  3\n",
      "i =  7\n",
      "action =  3\n",
      "i =  8\n",
      "action =  3\n",
      "i =  9\n",
      "action =  3\n",
      "i =  10\n",
      "action =  3\n",
      "i =  11\n",
      "action =  3\n",
      "i =  12\n",
      "action =  3\n",
      "i =  13\n",
      "action =  3\n",
      "i =  14\n",
      "action =  3\n",
      "i =  15\n",
      "action =  3\n",
      "i =  16\n",
      "action =  3\n",
      "i =  17\n",
      "action =  3\n",
      "i =  18\n",
      "action =  3\n",
      "i =  19\n",
      "action =  3\n",
      "i =  20\n",
      "action =  3\n",
      "i =  21\n",
      "action =  3\n",
      "i =  22\n",
      "action =  3\n",
      "i =  23\n",
      "action =  3\n",
      "i =  24\n",
      "action =  3\n",
      "i =  25\n",
      "action =  3\n",
      "i =  26\n",
      "action =  3\n",
      "i =  27\n",
      "action =  3\n",
      "i =  28\n",
      "action =  3\n",
      "i =  29\n",
      "action =  3\n",
      "i =  30\n",
      "action =  3\n",
      "i =  31\n",
      "action =  3\n",
      "i =  32\n",
      "action =  3\n",
      "i =  33\n",
      "action =  3\n",
      "i =  34\n",
      "action =  3\n",
      "i =  35\n",
      "action =  3\n",
      "i =  36\n",
      "action =  3\n",
      "i =  37\n",
      "action =  3\n",
      "i =  38\n",
      "action =  3\n",
      "i =  39\n",
      "action =  3\n",
      "i =  40\n",
      "action =  3\n",
      "i =  41\n",
      "action =  3\n",
      "i =  42\n",
      "action =  3\n",
      "i =  43\n",
      "action =  3\n",
      "i =  44\n",
      "action =  3\n",
      "i =  45\n",
      "action =  3\n",
      "i =  46\n",
      "action =  3\n",
      "i =  47\n",
      "action =  3\n",
      "i =  48\n",
      "action =  3\n",
      "i =  49\n",
      "action =  3\n",
      "i =  50\n",
      "action =  3\n",
      "i =  51\n",
      "action =  3\n",
      "i =  52\n",
      "action =  3\n",
      "i =  53\n",
      "action =  3\n",
      "i =  54\n",
      "action =  3\n",
      "i =  55\n",
      "action =  3\n",
      "i =  56\n",
      "action =  3\n",
      "i =  57\n",
      "action =  3\n",
      "i =  58\n",
      "action =  3\n",
      "i =  59\n",
      "action =  3\n",
      "i =  60\n",
      "action =  3\n",
      "i =  61\n",
      "action =  3\n",
      "i =  62\n",
      "action =  3\n",
      "i =  63\n",
      "action =  3\n",
      "i =  64\n",
      "action =  3\n",
      "i =  65\n",
      "action =  3\n",
      "i =  66\n",
      "action =  3\n",
      "i =  67\n",
      "action =  3\n",
      "i =  68\n",
      "action =  3\n",
      "i =  69\n",
      "action =  3\n",
      "i =  70\n",
      "action =  3\n",
      "i =  71\n",
      "action =  3\n",
      "i =  72\n",
      "action =  3\n",
      "i =  73\n",
      "action =  3\n",
      "i =  74\n",
      "action =  3\n",
      "i =  75\n",
      "action =  3\n",
      "i =  76\n",
      "action =  3\n",
      "i =  77\n",
      "action =  3\n",
      "i =  78\n",
      "action =  3\n",
      "i =  79\n"
     ]
    },
    {
     "ename": "KeyboardInterrupt",
     "evalue": "",
     "output_type": "error",
     "traceback": [
      "\u001b[1;31m---------------------------------------------------------------------------\u001b[0m",
      "\u001b[1;31mKeyboardInterrupt\u001b[0m                         Traceback (most recent call last)",
      "\u001b[1;32m<ipython-input-25-a8fdcc8aaa76>\u001b[0m in \u001b[0;36m<module>\u001b[1;34m\u001b[0m\n\u001b[0;32m      5\u001b[0m \u001b[1;33m\u001b[0m\u001b[0m\n\u001b[0;32m      6\u001b[0m     \u001b[0mprint\u001b[0m\u001b[1;33m(\u001b[0m\u001b[1;34m\"i = \"\u001b[0m\u001b[1;33m,\u001b[0m \u001b[0mi\u001b[0m\u001b[1;33m)\u001b[0m\u001b[1;33m\u001b[0m\u001b[1;33m\u001b[0m\u001b[0m\n\u001b[1;32m----> 7\u001b[1;33m     \u001b[0menv\u001b[0m\u001b[1;33m.\u001b[0m\u001b[0mrender\u001b[0m\u001b[1;33m(\u001b[0m\u001b[1;33m)\u001b[0m\u001b[1;33m\u001b[0m\u001b[1;33m\u001b[0m\u001b[0m\n\u001b[0m\u001b[0;32m      8\u001b[0m \u001b[1;33m\u001b[0m\u001b[0m\n\u001b[0;32m      9\u001b[0m     \u001b[0mstate\u001b[0m \u001b[1;33m=\u001b[0m \u001b[0mtorch\u001b[0m\u001b[1;33m.\u001b[0m\u001b[0mtensor\u001b[0m\u001b[1;33m(\u001b[0m\u001b[0mstate\u001b[0m\u001b[1;33m,\u001b[0m \u001b[0mdtype\u001b[0m\u001b[1;33m=\u001b[0m\u001b[0mtorch\u001b[0m\u001b[1;33m.\u001b[0m\u001b[0mfloat32\u001b[0m\u001b[1;33m)\u001b[0m\u001b[1;33m\u001b[0m\u001b[1;33m\u001b[0m\u001b[0m\n",
      "\u001b[1;32mc:\\users\\thoma\\anaconda3\\envs\\custom_atari_env\\lib\\site-packages\\gym\\core.py\u001b[0m in \u001b[0;36mrender\u001b[1;34m(self, *args, **kwargs)\u001b[0m\n\u001b[0;32m     64\u001b[0m                 )\n\u001b[0;32m     65\u001b[0m \u001b[1;33m\u001b[0m\u001b[0m\n\u001b[1;32m---> 66\u001b[1;33m             \u001b[1;32mreturn\u001b[0m \u001b[0mrender_func\u001b[0m\u001b[1;33m(\u001b[0m\u001b[0mself\u001b[0m\u001b[1;33m,\u001b[0m \u001b[1;33m*\u001b[0m\u001b[0margs\u001b[0m\u001b[1;33m,\u001b[0m \u001b[1;33m**\u001b[0m\u001b[0mkwargs\u001b[0m\u001b[1;33m)\u001b[0m\u001b[1;33m\u001b[0m\u001b[1;33m\u001b[0m\u001b[0m\n\u001b[0m\u001b[0;32m     67\u001b[0m \u001b[1;33m\u001b[0m\u001b[0m\n\u001b[0;32m     68\u001b[0m         \u001b[1;32mreturn\u001b[0m \u001b[0mrender\u001b[0m\u001b[1;33m\u001b[0m\u001b[1;33m\u001b[0m\u001b[0m\n",
      "\u001b[1;32mc:\\users\\thoma\\anaconda3\\envs\\custom_atari_env\\lib\\site-packages\\gym\\wrappers\\order_enforcing.py\u001b[0m in \u001b[0;36mrender\u001b[1;34m(self, *args, **kwargs)\u001b[0m\n\u001b[0;32m     49\u001b[0m                 \u001b[1;34m\"set `disable_render_order_enforcing=True` on the OrderEnforcer wrapper.\"\u001b[0m\u001b[1;33m\u001b[0m\u001b[1;33m\u001b[0m\u001b[0m\n\u001b[0;32m     50\u001b[0m             )\n\u001b[1;32m---> 51\u001b[1;33m         \u001b[1;32mreturn\u001b[0m \u001b[0mself\u001b[0m\u001b[1;33m.\u001b[0m\u001b[0menv\u001b[0m\u001b[1;33m.\u001b[0m\u001b[0mrender\u001b[0m\u001b[1;33m(\u001b[0m\u001b[1;33m*\u001b[0m\u001b[0margs\u001b[0m\u001b[1;33m,\u001b[0m \u001b[1;33m**\u001b[0m\u001b[0mkwargs\u001b[0m\u001b[1;33m)\u001b[0m\u001b[1;33m\u001b[0m\u001b[1;33m\u001b[0m\u001b[0m\n\u001b[0m\u001b[0;32m     52\u001b[0m \u001b[1;33m\u001b[0m\u001b[0m\n\u001b[0;32m     53\u001b[0m     \u001b[1;33m@\u001b[0m\u001b[0mproperty\u001b[0m\u001b[1;33m\u001b[0m\u001b[1;33m\u001b[0m\u001b[0m\n",
      "\u001b[1;32mc:\\users\\thoma\\anaconda3\\envs\\custom_atari_env\\lib\\site-packages\\gym\\core.py\u001b[0m in \u001b[0;36mrender\u001b[1;34m(self, *args, **kwargs)\u001b[0m\n\u001b[0;32m     64\u001b[0m                 )\n\u001b[0;32m     65\u001b[0m \u001b[1;33m\u001b[0m\u001b[0m\n\u001b[1;32m---> 66\u001b[1;33m             \u001b[1;32mreturn\u001b[0m \u001b[0mrender_func\u001b[0m\u001b[1;33m(\u001b[0m\u001b[0mself\u001b[0m\u001b[1;33m,\u001b[0m \u001b[1;33m*\u001b[0m\u001b[0margs\u001b[0m\u001b[1;33m,\u001b[0m \u001b[1;33m**\u001b[0m\u001b[0mkwargs\u001b[0m\u001b[1;33m)\u001b[0m\u001b[1;33m\u001b[0m\u001b[1;33m\u001b[0m\u001b[0m\n\u001b[0m\u001b[0;32m     67\u001b[0m \u001b[1;33m\u001b[0m\u001b[0m\n\u001b[0;32m     68\u001b[0m         \u001b[1;32mreturn\u001b[0m \u001b[0mrender\u001b[0m\u001b[1;33m\u001b[0m\u001b[1;33m\u001b[0m\u001b[0m\n",
      "\u001b[1;32mc:\\users\\thoma\\anaconda3\\envs\\custom_atari_env\\lib\\site-packages\\gym\\core.py\u001b[0m in \u001b[0;36mrender\u001b[1;34m(self, *args, **kwargs)\u001b[0m\n\u001b[0;32m    431\u001b[0m     ) -> Optional[Union[RenderFrame, List[RenderFrame]]]:\n\u001b[0;32m    432\u001b[0m         \u001b[1;34m\"\"\"Renders the environment.\"\"\"\u001b[0m\u001b[1;33m\u001b[0m\u001b[1;33m\u001b[0m\u001b[0m\n\u001b[1;32m--> 433\u001b[1;33m         \u001b[1;32mreturn\u001b[0m \u001b[0mself\u001b[0m\u001b[1;33m.\u001b[0m\u001b[0menv\u001b[0m\u001b[1;33m.\u001b[0m\u001b[0mrender\u001b[0m\u001b[1;33m(\u001b[0m\u001b[1;33m*\u001b[0m\u001b[0margs\u001b[0m\u001b[1;33m,\u001b[0m \u001b[1;33m**\u001b[0m\u001b[0mkwargs\u001b[0m\u001b[1;33m)\u001b[0m\u001b[1;33m\u001b[0m\u001b[1;33m\u001b[0m\u001b[0m\n\u001b[0m\u001b[0;32m    434\u001b[0m \u001b[1;33m\u001b[0m\u001b[0m\n\u001b[0;32m    435\u001b[0m     \u001b[1;32mdef\u001b[0m \u001b[0mclose\u001b[0m\u001b[1;33m(\u001b[0m\u001b[0mself\u001b[0m\u001b[1;33m)\u001b[0m\u001b[1;33m:\u001b[0m\u001b[1;33m\u001b[0m\u001b[1;33m\u001b[0m\u001b[0m\n",
      "\u001b[1;32mc:\\users\\thoma\\anaconda3\\envs\\custom_atari_env\\lib\\site-packages\\gym\\core.py\u001b[0m in \u001b[0;36mrender\u001b[1;34m(self, *args, **kwargs)\u001b[0m\n\u001b[0;32m     64\u001b[0m                 )\n\u001b[0;32m     65\u001b[0m \u001b[1;33m\u001b[0m\u001b[0m\n\u001b[1;32m---> 66\u001b[1;33m             \u001b[1;32mreturn\u001b[0m \u001b[0mrender_func\u001b[0m\u001b[1;33m(\u001b[0m\u001b[0mself\u001b[0m\u001b[1;33m,\u001b[0m \u001b[1;33m*\u001b[0m\u001b[0margs\u001b[0m\u001b[1;33m,\u001b[0m \u001b[1;33m**\u001b[0m\u001b[0mkwargs\u001b[0m\u001b[1;33m)\u001b[0m\u001b[1;33m\u001b[0m\u001b[1;33m\u001b[0m\u001b[0m\n\u001b[0m\u001b[0;32m     67\u001b[0m \u001b[1;33m\u001b[0m\u001b[0m\n\u001b[0;32m     68\u001b[0m         \u001b[1;32mreturn\u001b[0m \u001b[0mrender\u001b[0m\u001b[1;33m\u001b[0m\u001b[1;33m\u001b[0m\u001b[0m\n",
      "\u001b[1;32mc:\\users\\thoma\\anaconda3\\envs\\custom_atari_env\\lib\\site-packages\\gym\\wrappers\\env_checker.py\u001b[0m in \u001b[0;36mrender\u001b[1;34m(self, *args, **kwargs)\u001b[0m\n\u001b[0;32m     53\u001b[0m             \u001b[1;32mreturn\u001b[0m \u001b[0menv_render_passive_checker\u001b[0m\u001b[1;33m(\u001b[0m\u001b[0mself\u001b[0m\u001b[1;33m.\u001b[0m\u001b[0menv\u001b[0m\u001b[1;33m,\u001b[0m \u001b[1;33m*\u001b[0m\u001b[0margs\u001b[0m\u001b[1;33m,\u001b[0m \u001b[1;33m**\u001b[0m\u001b[0mkwargs\u001b[0m\u001b[1;33m)\u001b[0m\u001b[1;33m\u001b[0m\u001b[1;33m\u001b[0m\u001b[0m\n\u001b[0;32m     54\u001b[0m         \u001b[1;32melse\u001b[0m\u001b[1;33m:\u001b[0m\u001b[1;33m\u001b[0m\u001b[1;33m\u001b[0m\u001b[0m\n\u001b[1;32m---> 55\u001b[1;33m             \u001b[1;32mreturn\u001b[0m \u001b[0mself\u001b[0m\u001b[1;33m.\u001b[0m\u001b[0menv\u001b[0m\u001b[1;33m.\u001b[0m\u001b[0mrender\u001b[0m\u001b[1;33m(\u001b[0m\u001b[1;33m*\u001b[0m\u001b[0margs\u001b[0m\u001b[1;33m,\u001b[0m \u001b[1;33m**\u001b[0m\u001b[0mkwargs\u001b[0m\u001b[1;33m)\u001b[0m\u001b[1;33m\u001b[0m\u001b[1;33m\u001b[0m\u001b[0m\n\u001b[0m",
      "\u001b[1;32mc:\\users\\thoma\\anaconda3\\envs\\custom_atari_env\\lib\\site-packages\\gym\\core.py\u001b[0m in \u001b[0;36mrender\u001b[1;34m(self, *args, **kwargs)\u001b[0m\n\u001b[0;32m     64\u001b[0m                 )\n\u001b[0;32m     65\u001b[0m \u001b[1;33m\u001b[0m\u001b[0m\n\u001b[1;32m---> 66\u001b[1;33m             \u001b[1;32mreturn\u001b[0m \u001b[0mrender_func\u001b[0m\u001b[1;33m(\u001b[0m\u001b[0mself\u001b[0m\u001b[1;33m,\u001b[0m \u001b[1;33m*\u001b[0m\u001b[0margs\u001b[0m\u001b[1;33m,\u001b[0m \u001b[1;33m**\u001b[0m\u001b[0mkwargs\u001b[0m\u001b[1;33m)\u001b[0m\u001b[1;33m\u001b[0m\u001b[1;33m\u001b[0m\u001b[0m\n\u001b[0m\u001b[0;32m     67\u001b[0m \u001b[1;33m\u001b[0m\u001b[0m\n\u001b[0;32m     68\u001b[0m         \u001b[1;32mreturn\u001b[0m \u001b[0mrender\u001b[0m\u001b[1;33m\u001b[0m\u001b[1;33m\u001b[0m\u001b[0m\n",
      "\u001b[1;32mc:\\users\\thoma\\anaconda3\\envs\\custom_atari_env\\lib\\site-packages\\gym\\envs\\toy_text\\cliffwalking.py\u001b[0m in \u001b[0;36mrender\u001b[1;34m(self, mode)\u001b[0m\n\u001b[0;32m    171\u001b[0m             \u001b[1;32mreturn\u001b[0m \u001b[0mself\u001b[0m\u001b[1;33m.\u001b[0m\u001b[0mrenderer\u001b[0m\u001b[1;33m.\u001b[0m\u001b[0mget_renders\u001b[0m\u001b[1;33m(\u001b[0m\u001b[1;33m)\u001b[0m\u001b[1;33m\u001b[0m\u001b[1;33m\u001b[0m\u001b[0m\n\u001b[0;32m    172\u001b[0m         \u001b[1;32melse\u001b[0m\u001b[1;33m:\u001b[0m\u001b[1;33m\u001b[0m\u001b[1;33m\u001b[0m\u001b[0m\n\u001b[1;32m--> 173\u001b[1;33m             \u001b[1;32mreturn\u001b[0m \u001b[0mself\u001b[0m\u001b[1;33m.\u001b[0m\u001b[0m_render\u001b[0m\u001b[1;33m(\u001b[0m\u001b[0mmode\u001b[0m\u001b[1;33m)\u001b[0m\u001b[1;33m\u001b[0m\u001b[1;33m\u001b[0m\u001b[0m\n\u001b[0m\u001b[0;32m    174\u001b[0m \u001b[1;33m\u001b[0m\u001b[0m\n\u001b[0;32m    175\u001b[0m     \u001b[1;32mdef\u001b[0m \u001b[0m_render\u001b[0m\u001b[1;33m(\u001b[0m\u001b[0mself\u001b[0m\u001b[1;33m,\u001b[0m \u001b[0mmode\u001b[0m\u001b[1;33m=\u001b[0m\u001b[1;34m\"human\"\u001b[0m\u001b[1;33m)\u001b[0m\u001b[1;33m:\u001b[0m\u001b[1;33m\u001b[0m\u001b[1;33m\u001b[0m\u001b[0m\n",
      "\u001b[1;32mc:\\users\\thoma\\anaconda3\\envs\\custom_atari_env\\lib\\site-packages\\gym\\envs\\toy_text\\cliffwalking.py\u001b[0m in \u001b[0;36m_render\u001b[1;34m(self, mode)\u001b[0m\n\u001b[0;32m    177\u001b[0m             \u001b[1;32mreturn\u001b[0m \u001b[0mself\u001b[0m\u001b[1;33m.\u001b[0m\u001b[0m_render_text\u001b[0m\u001b[1;33m(\u001b[0m\u001b[1;33m)\u001b[0m\u001b[1;33m\u001b[0m\u001b[1;33m\u001b[0m\u001b[0m\n\u001b[0;32m    178\u001b[0m         \u001b[1;32melse\u001b[0m\u001b[1;33m:\u001b[0m\u001b[1;33m\u001b[0m\u001b[1;33m\u001b[0m\u001b[0m\n\u001b[1;32m--> 179\u001b[1;33m             \u001b[1;32mreturn\u001b[0m \u001b[0mself\u001b[0m\u001b[1;33m.\u001b[0m\u001b[0m_render_gui\u001b[0m\u001b[1;33m(\u001b[0m\u001b[0mmode\u001b[0m\u001b[1;33m)\u001b[0m\u001b[1;33m\u001b[0m\u001b[1;33m\u001b[0m\u001b[0m\n\u001b[0m\u001b[0;32m    180\u001b[0m \u001b[1;33m\u001b[0m\u001b[0m\n\u001b[0;32m    181\u001b[0m     \u001b[1;32mdef\u001b[0m \u001b[0m_render_gui\u001b[0m\u001b[1;33m(\u001b[0m\u001b[0mself\u001b[0m\u001b[1;33m,\u001b[0m \u001b[0mmode\u001b[0m\u001b[1;33m)\u001b[0m\u001b[1;33m:\u001b[0m\u001b[1;33m\u001b[0m\u001b[1;33m\u001b[0m\u001b[0m\n",
      "\u001b[1;32mc:\\users\\thoma\\anaconda3\\envs\\custom_atari_env\\lib\\site-packages\\gym\\envs\\toy_text\\cliffwalking.py\u001b[0m in \u001b[0;36m_render_gui\u001b[1;34m(self, mode)\u001b[0m\n\u001b[0;32m    259\u001b[0m             \u001b[0mpygame\u001b[0m\u001b[1;33m.\u001b[0m\u001b[0mevent\u001b[0m\u001b[1;33m.\u001b[0m\u001b[0mpump\u001b[0m\u001b[1;33m(\u001b[0m\u001b[1;33m)\u001b[0m\u001b[1;33m\u001b[0m\u001b[1;33m\u001b[0m\u001b[0m\n\u001b[0;32m    260\u001b[0m             \u001b[0mpygame\u001b[0m\u001b[1;33m.\u001b[0m\u001b[0mdisplay\u001b[0m\u001b[1;33m.\u001b[0m\u001b[0mupdate\u001b[0m\u001b[1;33m(\u001b[0m\u001b[1;33m)\u001b[0m\u001b[1;33m\u001b[0m\u001b[1;33m\u001b[0m\u001b[0m\n\u001b[1;32m--> 261\u001b[1;33m             \u001b[0mself\u001b[0m\u001b[1;33m.\u001b[0m\u001b[0mclock\u001b[0m\u001b[1;33m.\u001b[0m\u001b[0mtick\u001b[0m\u001b[1;33m(\u001b[0m\u001b[0mself\u001b[0m\u001b[1;33m.\u001b[0m\u001b[0mmetadata\u001b[0m\u001b[1;33m[\u001b[0m\u001b[1;34m\"render_fps\"\u001b[0m\u001b[1;33m]\u001b[0m\u001b[1;33m)\u001b[0m\u001b[1;33m\u001b[0m\u001b[1;33m\u001b[0m\u001b[0m\n\u001b[0m\u001b[0;32m    262\u001b[0m         \u001b[1;32melse\u001b[0m\u001b[1;33m:\u001b[0m  \u001b[1;31m# rgb_array\u001b[0m\u001b[1;33m\u001b[0m\u001b[1;33m\u001b[0m\u001b[0m\n\u001b[0;32m    263\u001b[0m             return np.transpose(\n",
      "\u001b[1;31mKeyboardInterrupt\u001b[0m: "
     ]
    }
   ],
   "source": [
    "#Render the final environment\n",
    "state, info = env.reset(seed=42, return_info=True)\n",
    "import time\n",
    "for i in range(100):\n",
    "    \n",
    "    print(\"i = \", i)\n",
    "    env.render()\n",
    "    \n",
    "    state = torch.tensor(state, dtype=torch.float32)\n",
    "    state = state.unsqueeze(dim=0)\n",
    "    action = np.argmax(model(state).detach().numpy())\n",
    "    print(\"action = \", action)\n",
    "    state, reward, done, info = env.step(action)\n",
    "\n",
    "    if done:\n",
    "        state, info = env.reset(return_info=True)\n",
    "env.close()"
   ]
  },
  {
   "cell_type": "code",
   "execution_count": 84,
   "id": "94feaab1",
   "metadata": {},
   "outputs": [
    {
     "data": {
      "text/plain": [
       "2"
      ]
     },
     "execution_count": 84,
     "metadata": {},
     "output_type": "execute_result"
    }
   ],
   "source": [
    "env.observation_space.shape[0]\n",
    "env.action_space.n"
   ]
  }
 ],
 "metadata": {
  "kernelspec": {
   "display_name": "Python 3",
   "language": "python",
   "name": "python3"
  },
  "language_info": {
   "codemirror_mode": {
    "name": "ipython",
    "version": 3
   },
   "file_extension": ".py",
   "mimetype": "text/x-python",
   "name": "python",
   "nbconvert_exporter": "python",
   "pygments_lexer": "ipython3",
   "version": "3.6.9"
  }
 },
 "nbformat": 4,
 "nbformat_minor": 5
}
