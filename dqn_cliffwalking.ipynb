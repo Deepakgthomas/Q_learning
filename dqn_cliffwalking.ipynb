{
 "cells": [
  {
   "cell_type": "code",
   "execution_count": 142,
   "id": "2f30013f",
   "metadata": {},
   "outputs": [],
   "source": [
    "# Here we import all libraries\n",
    "import numpy as np\n",
    "import gym\n",
    "import matplotlib.pyplot as plt\n",
    "import os\n",
    "import torch\n",
    "import random\n",
    "from torch import nn\n",
    "from torch.utils.data import DataLoader\n",
    "from torchvision import datasets, transforms\n",
    "from collections import deque \n",
    "import sys\n",
    "env = gym.make(\"CartPole-v0\")"
   ]
  },
  {
   "cell_type": "code",
   "execution_count": 143,
   "id": "63c20bea",
   "metadata": {},
   "outputs": [],
   "source": [
    "#Hyperparameters\n",
    "episodes = 20000*5\n",
    "eps = 1.0\n",
    "learning_rate = 0.001\n",
    "tot_rewards = []\n",
    "tot_loss = []\n",
    "decay_val = 0.0001\n",
    "mem_size = 1000000\n",
    "batch_size = 300\n",
    "gamma = 0.99\n",
    "max_steps = 200"
   ]
  },
  {
   "cell_type": "code",
   "execution_count": 144,
   "id": "356612d0",
   "metadata": {},
   "outputs": [],
   "source": [
    "class NeuralNetwork(nn.Module):\n",
    "    def __init__(self, state_size, action_size):\n",
    "        super(NeuralNetwork, self).__init__()\n",
    "        self.state_size = state_size\n",
    "        self.action_size = action_size\n",
    "        self.linear_relu_stack = nn.Sequential(\n",
    "            nn.Linear(state_size, 300),\n",
    "            nn.ReLU(),\n",
    "            nn.Linear(300, 128),\n",
    "            nn.ReLU(),\n",
    "            nn.Linear(128, 128),\n",
    "            nn.ReLU(),\n",
    "            nn.Linear(128, action_size)\n",
    "        )\n",
    "    def forward(self, x):\n",
    "        x = self.linear_relu_stack(x)\n",
    "        return x"
   ]
  },
  {
   "cell_type": "code",
   "execution_count": 145,
   "id": "2a48df98",
   "metadata": {},
   "outputs": [],
   "source": [
    "model = NeuralNetwork(env.observation_space.shape[0], env.action_space.n)\n",
    "opt = torch.optim.Adam(params=model.parameters(), lr=learning_rate)\n",
    "replay_buffer = deque(maxlen=mem_size)"
   ]
  },
  {
   "cell_type": "code",
   "execution_count": 146,
   "id": "5f5953d9",
   "metadata": {},
   "outputs": [],
   "source": [
    "#Testing code\n",
    "\n",
    "# state = torch.tensor(env.reset(), dtype=torch.float32)\n",
    "# print(\"state = \", state)\n",
    "# out = model(state)\n",
    "# print(\"out = \", out)"
   ]
  },
  {
   "cell_type": "code",
   "execution_count": 147,
   "id": "9582dac6",
   "metadata": {},
   "outputs": [],
   "source": [
    "def compute_td_loss(batch_size):\n",
    "    state, next_state, reward, done, action = zip(*random.sample(replay_buffer, batch_size))\n",
    "    state = torch.stack(list(state), dim=0).reshape(batch_size, -1)\n",
    "\n",
    "    next_state = torch.from_numpy(np.array(next_state).reshape(batch_size, -1)).type(torch.float32)\n",
    "    \n",
    "    reward = torch.from_numpy(np.array(reward))\n",
    "    done = torch.from_numpy(np.array(done)).long()\n",
    "    action = torch.from_numpy(np.array(action)).type(torch.int64)\n",
    "    \n",
    "    q_values = model(state)\n",
    "    next_q_values = model(next_state)\n",
    "\n",
    "    q_vals = q_values.gather(dim=-1, index=action.reshape(-1,1))\n",
    "    max_next_q_values = torch.max(next_q_values,-1)[0].detach()\n",
    "\n",
    "    loss = ((reward + gamma*max_next_q_values*(1-done) - q_vals.squeeze())**2).mean()\n",
    "\n",
    "    opt.zero_grad()\n",
    "    loss.backward()\n",
    "    opt.step()\n",
    "    return loss\n",
    "    "
   ]
  },
  {
   "cell_type": "code",
   "execution_count": 148,
   "id": "6d21954b",
   "metadata": {},
   "outputs": [
    {
     "name": "stdout",
     "output_type": "stream",
     "text": [
      "Episode =  0  Epsilon =  1.0\n"
     ]
    },
    {
     "data": {
      "image/png": "[encoded data removed]",
      "text/plain": [
       "<Figure size 432x288 with 1 Axes>"
      ]
     },
     "metadata": {
      "needs_background": "light"
     },
     "output_type": "display_data"
    },
    {
     "name": "stdout",
     "output_type": "stream",
     "text": [
      "Episode =  1  Epsilon =  0.9965062922373764\n",
      "Episode =  2  Epsilon =  0.9931240929477303\n",
      "Episode =  3  Epsilon =  0.9899513336078503\n",
      "Episode =  4  Epsilon =  0.9877759432483771\n",
      "Episode =  5  Epsilon =  0.9864927329490045\n",
      "Episode =  6  Epsilon =  0.9853097107748489\n",
      "Episode =  7  Epsilon =  0.9843249427677173\n",
      "Episode =  8  Epsilon =  0.9799056523467262\n",
      "Episode =  9  Epsilon =  0.9764821483624831\n",
      "Episode =  10  Epsilon =  0.9745312331753515\n",
      "Episode =  11  Epsilon =  0.9730706051006852\n",
      "Episode =  12  Epsilon =  0.9719036790155714\n",
      "Episode =  13  Epsilon =  0.9669598349582635\n",
      "Episode =  14  Epsilon =  0.964834967773834\n",
      "Episode =  15  Epsilon =  0.9618487596955073\n",
      "Episode =  16  Epsilon =  0.9596391600399697\n",
      "Episode =  17  Epsilon =  0.9581050417104697\n",
      "Episode =  18  Epsilon =  0.9560952326497377\n",
      "Episode =  19  Epsilon =  0.9549486637769512\n",
      "Episode =  20  Epsilon =  0.9526596493486864\n",
      "Episode =  21  Epsilon =  0.9515172004973566\n",
      "Episode =  22  Epsilon =  0.9497111244342705\n",
      "Episode =  23  Epsilon =  0.9474346644014188\n",
      "Episode =  24  Epsilon =  0.9462984814584385\n",
      "Episode =  25  Epsilon =  0.9448801686512354\n",
      "Episode =  26  Epsilon =  0.9435583280103926\n",
      "Episode =  27  Epsilon =  0.9377266548222593\n",
      "Episode =  28  Epsilon =  0.9362275667179727\n",
      "Episode =  29  Epsilon =  0.9328633748630615\n",
      "Episode =  30  Epsilon =  0.9298831320047457\n",
      "Episode =  31  Epsilon =  0.9277469651412376\n",
      "Episode =  32  Epsilon =  0.9243208149611727\n",
      "Episode =  33  Epsilon =  0.9229354422954537\n",
      "Episode =  34  Epsilon =  0.9214600000272246\n",
      "Episode =  35  Epsilon =  0.9199869164612271\n",
      "Episode =  36  Epsilon =  0.9175064259782136\n",
      "Episode =  37  Epsilon =  0.9152156391273244\n",
      "Episode =  38  Epsilon =  0.9131131670488675\n",
      "Episode =  39  Epsilon =  0.9110155248582003\n",
      "Episode =  40  Epsilon =  0.9090135937300469\n",
      "Episode =  41  Epsilon =  0.9071067633957177\n",
      "Episode =  42  Epsilon =  0.9060189424928553\n",
      "Episode =  43  Epsilon =  0.9043896566564406\n",
      "Episode =  44  Epsilon =  0.9011398695055926\n",
      "Episode =  45  Epsilon =  0.8987101948763376\n",
      "Episode =  46  Epsilon =  0.8927985331103879\n",
      "Episode =  47  Epsilon =  0.8905694357632363\n",
      "Episode =  48  Epsilon =  0.8891457351140882\n",
      "Episode =  49  Epsilon =  0.8873693094814068\n",
      "Episode =  50  Epsilon =  0.8855078821840123\n",
      "Episode =  51  Epsilon =  0.882325943827779\n",
      "Episode =  52  Epsilon =  0.8792433548286631\n",
      "Episode =  53  Epsilon =  0.8781011381789432\n",
      "Episode =  54  Epsilon =  0.874158757182578\n",
      "Episode =  55  Epsilon =  0.870408131678475\n",
      "Episode =  56  Epsilon =  0.8686691419325364\n",
      "Episode =  57  Epsilon =  0.867367180032179\n",
      "Episode =  58  Epsilon =  0.8594243919540799\n",
      "Episode =  59  Epsilon =  0.8553947758047747\n",
      "Episode =  60  Epsilon =  0.8547107678236311\n",
      "Episode =  61  Epsilon =  0.8534297267438752\n",
      "Episode =  62  Epsilon =  0.8509584891225299\n",
      "Episode =  63  Epsilon =  0.8495131608333434\n",
      "Episode =  64  Epsilon =  0.8465452101088886\n",
      "Episode =  65  Epsilon =  0.8451073776459829\n",
      "Episode =  66  Epsilon =  0.8429973533306357\n",
      "Episode =  67  Epsilon =  0.8396322668283954\n",
      "Episode =  68  Epsilon =  0.8382061757989586\n",
      "Episode =  69  Epsilon =  0.8359461844831367\n",
      "Episode =  70  Epsilon =  0.8316107629559164\n",
      "Episode =  71  Epsilon =  0.8288711073365448\n",
      "Episode =  72  Epsilon =  0.8254798621588428\n",
      "Episode =  73  Epsilon =  0.8244899298981827\n",
      "Episode =  74  Epsilon =  0.8232541838308505\n",
      "Episode =  75  Epsilon =  0.8201319101203747\n",
      "Episode =  76  Epsilon =  0.8162865261395134\n",
      "Episode =  77  Epsilon =  0.8127842045778533\n",
      "Episode =  78  Epsilon =  0.8083263845818036\n",
      "Episode =  79  Epsilon =  0.8027684074935215\n",
      "Episode =  80  Epsilon =  0.8011645552566379\n",
      "Episode =  81  Epsilon =  0.79948395896271\n",
      "Episode =  82  Epsilon =  0.7974081042408913\n",
      "Episode =  83  Epsilon =  0.7965314813875962\n",
      "Episode =  84  Epsilon =  0.7946221933571257\n",
      "Episode =  85  Epsilon =  0.793669266241274\n",
      "Episode =  86  Epsilon =  0.7916876701809277\n",
      "Episode =  87  Epsilon =  0.7896320584704901\n",
      "Episode =  88  Epsilon =  0.7879756538001577\n",
      "Episode =  89  Epsilon =  0.7871881113596687\n",
      "Episode =  90  Epsilon =  0.7855368333370766\n",
      "Episode =  91  Epsilon =  0.7812284550694378\n",
      "Episode =  92  Epsilon =  0.7786547787507999\n",
      "Episode =  93  Epsilon =  0.7706761936989781\n",
      "Episode =  94  Epsilon =  0.7670626946348508\n",
      "Episode =  95  Epsilon =  0.7657598609169823\n",
      "Episode =  96  Epsilon =  0.7644592400243603\n",
      "Episode =  97  Epsilon =  0.760342491187295\n",
      "Episode =  98  Epsilon =  0.7554165379786428\n",
      "Episode =  99  Epsilon =  0.7546615367536225\n",
      "Episode =  100  Epsilon =  0.7471529025512705\n"
     ]
    },
    {
     "data": {
      "image/png": "[encoded data removed]",
      "text/plain": [
       "<Figure size 432x288 with 1 Axes>"
      ]
     },
     "metadata": {
      "needs_background": "light"
     },
     "output_type": "display_data"
    },
    {
     "name": "stdout",
     "output_type": "stream",
     "text": [
      "Episode =  101  Epsilon =  0.7410516033229295\n",
      "Episode =  102  Epsilon =  0.7391274678194917\n",
      "Episode =  103  Epsilon =  0.7365451724476025\n",
      "Episode =  104  Epsilon =  0.7290709686300645\n",
      "Episode =  105  Epsilon =  0.7208071659385873\n",
      "Episode =  106  Epsilon =  0.7174274896999397\n",
      "Episode =  107  Epsilon =  0.7162089599366694\n",
      "Episode =  108  Epsilon =  0.7119247857566016\n",
      "Episode =  109  Epsilon =  0.7108577524038187\n",
      "Episode =  110  Epsilon =  0.7061111616227185\n",
      "Episode =  111  Epsilon =  0.7040665076661337\n",
      "Episode =  112  Epsilon =  0.6953904196775378\n",
      "Episode =  113  Epsilon =  0.6885403607565952\n",
      "Episode =  114  Epsilon =  0.6812126186071386\n",
      "Episode =  115  Epsilon =  0.6746371276614749\n",
      "Episode =  116  Epsilon =  0.6662570670502075\n",
      "Episode =  117  Epsilon =  0.6640621520743571\n",
      "Episode =  118  Epsilon =  0.6626691543632235\n",
      "Episode =  119  Epsilon =  0.6561414217053818\n",
      "Episode =  120  Epsilon =  0.6552235122962041\n",
      "Episode =  121  Epsilon =  0.6535222288538053\n",
      "Episode =  122  Epsilon =  0.6476672086505246\n",
      "Episode =  123  Epsilon =  0.6451463514441261\n",
      "Episode =  124  Epsilon =  0.6400060263585537\n",
      "Episode =  125  Epsilon =  0.6322457746266023\n",
      "Episode =  126  Epsilon =  0.6312350407257856\n",
      "Episode =  127  Epsilon =  0.6299109041759586\n",
      "Episode =  128  Epsilon =  0.6202850667123421\n",
      "Episode =  129  Epsilon =  0.6183034258954747\n",
      "Episode =  130  Epsilon =  0.6160816462521416\n",
      "Episode =  131  Epsilon =  0.6146048969453437\n",
      "Episode =  132  Epsilon =  0.6067278041014913\n",
      "Episode =  133  Epsilon =  0.5980539589684504\n",
      "Episode =  134  Epsilon =  0.5935855551515442\n",
      "Episode =  135  Epsilon =  0.5880322699219185\n",
      "Episode =  136  Epsilon =  0.5824726911416847\n",
      "Episode =  137  Epsilon =  0.5789884922506173\n",
      "Episode =  138  Epsilon =  0.5756402457058575\n",
      "Episode =  139  Epsilon =  0.5688310622269901\n",
      "Episode =  140  Epsilon =  0.5613160703103289\n",
      "Episode =  141  Epsilon =  0.5594668725909498\n",
      "Episode =  142  Epsilon =  0.5483892346251337\n",
      "Episode =  143  Epsilon =  0.5393076309229304\n",
      "Episode =  144  Epsilon =  0.5351176032499051\n",
      "Episode =  145  Epsilon =  0.5285762952989859\n",
      "Episode =  146  Epsilon =  0.5218539694923258\n",
      "Episode =  147  Epsilon =  0.5115210800429691\n",
      "Episode =  148  Epsilon =  0.5093773037751705\n",
      "Episode =  149  Epsilon =  0.5043595979726241\n",
      "Episode =  150  Epsilon =  0.49437310314219624\n",
      "Episode =  151  Epsilon =  0.4893563771177568\n",
      "Episode =  152  Epsilon =  0.4796669512597627\n",
      "Episode =  153  Epsilon =  0.47191214107985774\n",
      "Episode =  154  Epsilon =  0.4700753596190412\n",
      "Episode =  155  Epsilon =  0.46386505789267646\n",
      "Episode =  156  Epsilon =  0.45468036898959546\n",
      "Episode =  157  Epsilon =  0.4456775401098361\n",
      "Episode =  158  Epsilon =  0.4387353883133874\n",
      "Episode =  159  Epsilon =  0.4320309551793623\n",
      "Episode =  160  Epsilon =  0.4237307420278979\n",
      "Episode =  161  Epsilon =  0.42309565410373917\n",
      "Episode =  162  Epsilon =  0.4147182135247003\n",
      "Episode =  163  Epsilon =  0.40650664917240725\n",
      "Episode =  164  Epsilon =  0.3984576766400846\n",
      "Episode =  165  Epsilon =  0.39056807655334924\n",
      "Episode =  166  Epsilon =  0.3828346932825464\n",
      "Episode =  167  Epsilon =  0.3752544336805824\n",
      "Episode =  168  Epsilon =  0.367824265845748\n",
      "Episode =  169  Epsilon =  0.36054121790903787\n",
      "Episode =  170  Epsilon =  0.35340237684548326\n",
      "Episode =  171  Epsilon =  0.34640488730901986\n",
      "Episode =  172  Epsilon =  0.3395459504904246\n",
      "Episode =  173  Epsilon =  0.3328228229978661\n",
      "Episode =  174  Epsilon =  0.3262328157596235\n",
      "Episode =  175  Epsilon =  0.3197732929485271\n",
      "Episode =  176  Epsilon =  0.31344167092769887\n",
      "Episode =  177  Epsilon =  0.3074198045589548\n",
      "Episode =  178  Epsilon =  0.3013327858894579\n",
      "Episode =  179  Epsilon =  0.29548445653920946\n",
      "Episode =  180  Epsilon =  0.28963376189681067\n",
      "Episode =  181  Epsilon =  0.2838989130359451\n",
      "Episode =  182  Epsilon =  0.27827761616999075\n",
      "Episode =  183  Epsilon =  0.2727676229300954\n",
      "Episode =  184  Epsilon =  0.26736672946589\n",
      "Episode =  185  Epsilon =  0.2620727755640066\n",
      "Episode =  186  Epsilon =  0.2570121112968755\n",
      "Episode =  187  Epsilon =  0.2537181117326967\n",
      "Episode =  188  Epsilon =  0.2486944051919872\n",
      "Episode =  189  Epsilon =  0.24377016978179664\n",
      "Episode =  190  Epsilon =  0.23894343593926817\n",
      "Episode =  191  Epsilon =  0.2342122730995719\n",
      "Episode =  192  Epsilon =  0.22957478892373073\n",
      "Episode =  193  Epsilon =  0.22502912854173485\n",
      "Episode =  194  Epsilon =  0.22057347381064385\n",
      "Episode =  195  Epsilon =  0.21620604258737763\n",
      "Episode =  196  Epsilon =  0.21192508801590637\n",
      "Episode =  197  Epsilon =  0.20772889782855558\n",
      "Episode =  198  Epsilon =  0.2036157936611438\n",
      "Episode =  199  Epsilon =  0.19958413038168168\n",
      "Episode =  200  Epsilon =  0.19563229543236388\n"
     ]
    },
    {
     "data": {
      "image/png": "[encoded data removed]",
      "text/plain": [
       "<Figure size 432x288 with 1 Axes>"
      ]
     },
     "metadata": {
      "needs_background": "light"
     },
     "output_type": "display_data"
    },
    {
     "name": "stdout",
     "output_type": "stream",
     "text": [
      "Episode =  201  Epsilon =  0.19229635804401612\n",
      "Episode =  202  Epsilon =  0.18848882351263016\n",
      "Episode =  203  Epsilon =  0.18475667948450258\n",
      "Episode =  204  Epsilon =  0.1823522704640226\n",
      "Episode =  205  Epsilon =  0.17970939935935173\n",
      "Episode =  206  Epsilon =  0.17615109097205123\n",
      "Episode =  207  Epsilon =  0.17266323832398459\n",
      "Episode =  208  Epsilon =  0.16924444636709776\n",
      "Episode =  209  Epsilon =  0.1658933476757719\n",
      "Episode =  210  Epsilon =  0.1626086018998891\n",
      "Episode =  211  Epsilon =  0.15938889522872846\n",
      "Episode =  212  Epsilon =  0.15667098316975156\n",
      "Episode =  213  Epsilon =  0.15356884340718516\n",
      "Episode =  214  Epsilon =  0.15052812708699345\n",
      "Episode =  215  Epsilon =  0.1475476180037304\n",
      "Episode =  216  Epsilon =  0.1446261240332396\n",
      "Episode =  217  Epsilon =  0.14176247665583572\n",
      "Episode =  218  Epsilon =  0.13895553048892825\n",
      "Episode =  219  Epsilon =  0.13620416282889924\n",
      "Episode =  220  Epsilon =  0.13350727320205125\n",
      "Episode =  221  Epsilon =  0.13086378292444717\n",
      "Episode =  222  Epsilon =  0.12827263467046657\n",
      "Episode =  223  Epsilon =  0.12573279204990154\n",
      "Episode =  224  Epsilon =  0.12324323919342997\n",
      "Episode =  225  Epsilon =  0.12080298034629451\n",
      "Episode =  226  Epsilon =  0.11841103947002693\n",
      "Episode =  227  Epsilon =  0.11606645985205907\n",
      "Episode =  228  Epsilon =  0.11376830372306307\n",
      "Episode =  229  Epsilon =  0.111515651881869\n",
      "Episode =  230  Epsilon =  0.10930760332780828\n",
      "Episode =  231  Epsilon =  0.10714327490033797\n",
      "Episode =  232  Epsilon =  0.1050218009258\n",
      "Episode =  233  Epsilon =  0.10315872808607811\n",
      "Episode =  234  Epsilon =  0.10111614951934468\n",
      "Episode =  235  Epsilon =  0.09992005800230779\n",
      "Episode =  236  Epsilon =  0.09794160622562463\n",
      "Episode =  237  Epsilon =  0.09600232847977097\n",
      "Episode =  238  Epsilon =  0.09410144910536014\n",
      "Episode =  239  Epsilon =  0.09223820780133025\n",
      "Episode =  240  Epsilon =  0.09041185932084404\n",
      "Episode =  241  Epsilon =  0.08862167317320975\n",
      "Episode =  242  Epsilon =  0.08686693333170438\n",
      "Episode =  243  Epsilon =  0.0851469379471825\n",
      "Episode =  244  Epsilon =  0.08346099906735484\n",
      "Episode =  245  Epsilon =  0.08180844236162567\n",
      "Episode =  246  Epsilon =  0.0801886068513791\n",
      "Episode =  247  Epsilon =  0.07860084464560468\n",
      "Episode =  248  Epsilon =  0.07704452068175861\n",
      "Episode =  249  Epsilon =  0.07551901247175535\n",
      "Episode =  250  Epsilon =  0.07402370985298944\n",
      "Episode =  251  Epsilon =  0.07255801474428634\n",
      "Episode =  252  Epsilon =  0.07112134090668588\n",
      "Episode =  253  Epsilon =  0.06971311370896283\n",
      "Episode =  254  Epsilon =  0.06833276989778896\n",
      "Episode =  255  Epsilon =  0.06697975737244753\n",
      "Episode =  256  Epsilon =  0.06565353496400712\n",
      "Episode =  257  Epsilon =  0.06435357221886875\n",
      "Episode =  258  Epsilon =  0.06307934918659834\n",
      "Episode =  259  Epsilon =  0.061830356211960966\n",
      "Episode =  260  Epsilon =  0.06060609373107172\n",
      "Episode =  261  Epsilon =  0.059406072071583806\n",
      "Episode =  262  Epsilon =  0.058229811256832534\n",
      "Episode =  263  Epsilon =  0.05707684081385762\n",
      "Episode =  264  Epsilon =  0.05594669958522632\n",
      "Episode =  265  Epsilon =  0.054838935544583065\n",
      "Episode =  266  Epsilon =  0.0537531056158506\n",
      "Episode =  267  Epsilon =  0.052688775496011565\n",
      "Episode =  268  Epsilon =  0.051645519481399026\n",
      "Episode =  269  Epsilon =  0.05062292029742603\n",
      "Episode =  270  Epsilon =  0.049620568931687085\n",
      "Episode =  271  Epsilon =  0.048638064470364034\n",
      "Episode =  272  Epsilon =  0.0476750139378714\n",
      "Episode =  273  Epsilon =  0.04673103213967631\n",
      "Episode =  274  Epsilon =  0.04580574150823128\n",
      "Episode =  275  Epsilon =  0.04489877195195704\n",
      "Episode =  276  Epsilon =  0.04400976070721592\n",
      "Episode =  277  Epsilon =  0.04313835219321584\n",
      "Episode =  278  Epsilon =  0.04228419786978783\n",
      "Episode =  279  Epsilon =  0.04144695609797895\n",
      "Episode =  280  Epsilon =  0.04062629200340588\n",
      "Episode =  281  Epsilon =  0.039821877342314224\n",
      "Episode =  282  Epsilon =  0.03903339037028966\n",
      "Episode =  283  Epsilon =  0.038260515713568796\n",
      "Episode =  284  Epsilon =  0.037502944242897976\n",
      "Episode =  285  Epsilon =  0.03676037294988997\n",
      "Episode =  286  Epsilon =  0.0360325048258286\n",
      "Episode =  287  Epsilon =  0.03531904874287316\n",
      "Episode =  288  Epsilon =  0.034619719337615165\n",
      "Episode =  289  Epsilon =  0.033934236896940494\n",
      "Episode =  290  Epsilon =  0.03326232724615162\n",
      "Episode =  291  Epsilon =  0.032603721639305\n",
      "Episode =  292  Epsilon =  0.03195815665171989\n",
      "Episode =  293  Epsilon =  0.03132537407461553\n",
      "Episode =  294  Epsilon =  0.03070512081183464\n",
      "Episode =  295  Epsilon =  0.03009714877861142\n",
      "Episode =  296  Epsilon =  0.029501214802344446\n",
      "Episode =  297  Epsilon =  0.028917080525334118\n",
      "Episode =  298  Epsilon =  0.02834451230944583\n",
      "Episode =  299  Epsilon =  0.027783281142661032\n",
      "Episode =  300  Epsilon =  0.027233162547478526\n"
     ]
    },
    {
     "data": {
      "image/png": "[encoded data removed]",
      "text/plain": [
       "<Figure size 432x288 with 1 Axes>"
      ]
     },
     "metadata": {
      "needs_background": "light"
     },
     "output_type": "display_data"
    },
    {
     "name": "stdout",
     "output_type": "stream",
     "text": [
      "Episode =  301  Epsilon =  0.026693936491129416\n",
      "Episode =  302  Epsilon =  0.026165387297569898\n",
      "Episode =  303  Epsilon =  0.02564730356121654\n",
      "Episode =  304  Epsilon =  0.025139478062389753\n",
      "Episode =  305  Epsilon =  0.024641707684431483\n",
      "Episode =  306  Epsilon =  0.024153793332463806\n",
      "Episode =  307  Epsilon =  0.023675539853756384\n",
      "Episode =  308  Epsilon =  0.023206755959670623\n",
      "Episode =  309  Epsilon =  0.022747254149149247\n",
      "Episode =  310  Epsilon =  0.022296850633720836\n",
      "Episode =  311  Epsilon =  0.02185536526398951\n",
      "Episode =  312  Epsilon =  0.021422621457579793\n",
      "Episode =  313  Epsilon =  0.020998446128508434\n",
      "Episode =  314  Epsilon =  0.020582669617954644\n",
      "Episode =  315  Epsilon =  0.020175125626401103\n",
      "Episode =  316  Epsilon =  0.019775651147118486\n",
      "Episode =  317  Epsilon =  0.019384086400967327\n",
      "Episode =  318  Epsilon =  0.019000274772490406\n",
      "Episode =  319  Epsilon =  0.018624062747270884\n",
      "Episode =  320  Epsilon =  0.01825529985053054\n",
      "Episode =  321  Epsilon =  0.01789383858694391\n",
      "Episode =  322  Epsilon =  0.017539534381644073\n",
      "Episode =  323  Epsilon =  0.017192245522396628\n",
      "Episode =  324  Epsilon =  0.016851833102918518\n",
      "Episode =  325  Epsilon =  0.01651816096731922\n",
      "Episode =  326  Epsilon =  0.01619109565564202\n",
      "Episode =  327  Epsilon =  0.015870506350483583\n",
      "Episode =  328  Epsilon =  0.015556264824670507\n",
      "Episode =  329  Epsilon =  0.015248245389971906\n",
      "Episode =  330  Epsilon =  0.014946324846827378\n",
      "Episode =  331  Epsilon =  0.014650382435070509\n",
      "Episode =  332  Epsilon =  0.014360299785628073\n",
      "Episode =  333  Epsilon =  0.014075960873175452\n",
      "Episode =  334  Epsilon =  0.013797251969729734\n",
      "Episode =  335  Epsilon =  0.013524061599161445\n"
     ]
    },
    {
     "ename": "KeyboardInterrupt",
     "evalue": "",
     "output_type": "error",
     "traceback": [
      "\u001b[1;31m---------------------------------------------------------------------------\u001b[0m",
      "\u001b[1;31mKeyboardInterrupt\u001b[0m                         Traceback (most recent call last)",
      "\u001b[1;32m<ipython-input-148-309f35247854>\u001b[0m in \u001b[0;36m<module>\u001b[1;34m\u001b[0m\n\u001b[0;32m     18\u001b[0m         \u001b[0mreplay_buffer\u001b[0m\u001b[1;33m.\u001b[0m\u001b[0mappend\u001b[0m\u001b[1;33m(\u001b[0m\u001b[1;33m(\u001b[0m\u001b[0mstate\u001b[0m\u001b[1;33m,\u001b[0m \u001b[0mnext_state\u001b[0m\u001b[1;33m,\u001b[0m \u001b[0mreward\u001b[0m\u001b[1;33m,\u001b[0m \u001b[0mdone\u001b[0m\u001b[1;33m,\u001b[0m \u001b[0maction\u001b[0m\u001b[1;33m)\u001b[0m\u001b[1;33m)\u001b[0m\u001b[1;33m\u001b[0m\u001b[1;33m\u001b[0m\u001b[0m\n\u001b[0;32m     19\u001b[0m         \u001b[1;32mif\u001b[0m \u001b[0mlen\u001b[0m\u001b[1;33m(\u001b[0m\u001b[0mreplay_buffer\u001b[0m\u001b[1;33m)\u001b[0m\u001b[1;33m>\u001b[0m\u001b[0mbatch_size\u001b[0m \u001b[1;32mand\u001b[0m \u001b[0msteps\u001b[0m\u001b[1;33m%\u001b[0m\u001b[1;36m4\u001b[0m\u001b[1;33m==\u001b[0m\u001b[1;36m0\u001b[0m\u001b[1;33m:\u001b[0m\u001b[1;33m\u001b[0m\u001b[1;33m\u001b[0m\u001b[0m\n\u001b[1;32m---> 20\u001b[1;33m             \u001b[0mloss\u001b[0m \u001b[1;33m=\u001b[0m \u001b[0mcompute_td_loss\u001b[0m\u001b[1;33m(\u001b[0m\u001b[0mbatch_size\u001b[0m\u001b[1;33m)\u001b[0m\u001b[1;33m\u001b[0m\u001b[1;33m\u001b[0m\u001b[0m\n\u001b[0m\u001b[0;32m     21\u001b[0m             \u001b[0meps_loss\u001b[0m \u001b[1;33m+=\u001b[0m \u001b[0mloss\u001b[0m\u001b[1;33m.\u001b[0m\u001b[0mdetach\u001b[0m\u001b[1;33m(\u001b[0m\u001b[1;33m)\u001b[0m\u001b[1;33m.\u001b[0m\u001b[0mnumpy\u001b[0m\u001b[1;33m(\u001b[0m\u001b[1;33m)\u001b[0m\u001b[1;33m\u001b[0m\u001b[1;33m\u001b[0m\u001b[0m\n\u001b[0;32m     22\u001b[0m         \u001b[0meps\u001b[0m \u001b[1;33m=\u001b[0m \u001b[0meps\u001b[0m\u001b[1;33m/\u001b[0m\u001b[1;33m(\u001b[0m\u001b[1;36m1\u001b[0m \u001b[1;33m+\u001b[0m \u001b[0mdecay_val\u001b[0m\u001b[1;33m)\u001b[0m\u001b[1;33m\u001b[0m\u001b[1;33m\u001b[0m\u001b[0m\n",
      "\u001b[1;32m<ipython-input-147-f6e1ef6ac510>\u001b[0m in \u001b[0;36mcompute_td_loss\u001b[1;34m(batch_size)\u001b[0m\n\u001b[0;32m     13\u001b[0m \u001b[1;33m\u001b[0m\u001b[0m\n\u001b[0;32m     14\u001b[0m     \u001b[0mq_vals\u001b[0m \u001b[1;33m=\u001b[0m \u001b[0mq_values\u001b[0m\u001b[1;33m.\u001b[0m\u001b[0mgather\u001b[0m\u001b[1;33m(\u001b[0m\u001b[0mdim\u001b[0m\u001b[1;33m=\u001b[0m\u001b[1;33m-\u001b[0m\u001b[1;36m1\u001b[0m\u001b[1;33m,\u001b[0m \u001b[0mindex\u001b[0m\u001b[1;33m=\u001b[0m\u001b[0maction\u001b[0m\u001b[1;33m.\u001b[0m\u001b[0mreshape\u001b[0m\u001b[1;33m(\u001b[0m\u001b[1;33m-\u001b[0m\u001b[1;36m1\u001b[0m\u001b[1;33m,\u001b[0m\u001b[1;36m1\u001b[0m\u001b[1;33m)\u001b[0m\u001b[1;33m)\u001b[0m\u001b[1;33m\u001b[0m\u001b[1;33m\u001b[0m\u001b[0m\n\u001b[1;32m---> 15\u001b[1;33m     \u001b[0mmax_next_q_values\u001b[0m \u001b[1;33m=\u001b[0m \u001b[0mtorch\u001b[0m\u001b[1;33m.\u001b[0m\u001b[0mmax\u001b[0m\u001b[1;33m(\u001b[0m\u001b[0mnext_q_values\u001b[0m\u001b[1;33m,\u001b[0m\u001b[1;33m-\u001b[0m\u001b[1;36m1\u001b[0m\u001b[1;33m)\u001b[0m\u001b[1;33m[\u001b[0m\u001b[1;36m0\u001b[0m\u001b[1;33m]\u001b[0m\u001b[1;33m.\u001b[0m\u001b[0mdetach\u001b[0m\u001b[1;33m(\u001b[0m\u001b[1;33m)\u001b[0m\u001b[1;33m\u001b[0m\u001b[1;33m\u001b[0m\u001b[0m\n\u001b[0m\u001b[0;32m     16\u001b[0m \u001b[1;33m\u001b[0m\u001b[0m\n\u001b[0;32m     17\u001b[0m     \u001b[0mloss\u001b[0m \u001b[1;33m=\u001b[0m \u001b[1;33m(\u001b[0m\u001b[1;33m(\u001b[0m\u001b[0mreward\u001b[0m \u001b[1;33m+\u001b[0m \u001b[0mgamma\u001b[0m\u001b[1;33m*\u001b[0m\u001b[0mmax_next_q_values\u001b[0m\u001b[1;33m*\u001b[0m\u001b[1;33m(\u001b[0m\u001b[1;36m1\u001b[0m\u001b[1;33m-\u001b[0m\u001b[0mdone\u001b[0m\u001b[1;33m)\u001b[0m \u001b[1;33m-\u001b[0m \u001b[0mq_vals\u001b[0m\u001b[1;33m.\u001b[0m\u001b[0msqueeze\u001b[0m\u001b[1;33m(\u001b[0m\u001b[1;33m)\u001b[0m\u001b[1;33m)\u001b[0m\u001b[1;33m**\u001b[0m\u001b[1;36m2\u001b[0m\u001b[1;33m)\u001b[0m\u001b[1;33m.\u001b[0m\u001b[0mmean\u001b[0m\u001b[1;33m(\u001b[0m\u001b[1;33m)\u001b[0m\u001b[1;33m\u001b[0m\u001b[1;33m\u001b[0m\u001b[0m\n",
      "\u001b[1;31mKeyboardInterrupt\u001b[0m: "
     ]
    }
   ],
   "source": [
    "for i in range(episodes):\n",
    "    print(\"Episode = \", i, \" Epsilon = \", eps)\n",
    "    state = torch.tensor(env.reset(), dtype=torch.float32).unsqueeze(0)\n",
    "\n",
    "    done = False\n",
    "    steps = 0\n",
    "    eps_rew = 0 \n",
    "    eps_loss = 0\n",
    "    while not done and steps<max_steps:\n",
    "        if np.random.uniform(0,1)<eps:\n",
    "            action = env.action_space.sample()\n",
    "        else:\n",
    "#             action = env.action_space.sample()\n",
    "            action = np.argmax(model(state).detach().numpy())\n",
    "                \n",
    "\n",
    "        next_state, reward, done, info = env.step(action)\n",
    "        replay_buffer.append((state, next_state, reward, done, action))\n",
    "        if len(replay_buffer)>batch_size and steps%4==0:\n",
    "            loss = compute_td_loss(batch_size)\n",
    "            eps_loss += loss.detach().numpy()\n",
    "        eps = eps/(1 + decay_val)\n",
    "        eps_rew += reward \n",
    "        \n",
    "        if done:\n",
    "            tot_rewards.append(eps_rew)\n",
    "            break\n",
    "        \n",
    "        state = torch.tensor(next_state, dtype=torch.float32).unsqueeze(0)\n",
    "        steps += 1\n",
    "    tot_rewards.append(eps_rew)\n",
    "    tot_loss.append(eps_loss)\n",
    "    \n",
    "    if(i%100)==0:\n",
    "        plt.scatter(np.arange(len(tot_rewards)), tot_rewards)\n",
    "#         plt.scatter(np.arange(len(tot_loss)), tot_loss)\n",
    "        plt.show()"
   ]
  },
  {
   "cell_type": "code",
   "execution_count": 149,
   "id": "5e4b9d1e",
   "metadata": {},
   "outputs": [
    {
     "data": {
      "text/plain": [
       "[<matplotlib.lines.Line2D at 0x147c399ffd0>]"
      ]
     },
     "execution_count": 149,
     "metadata": {},
     "output_type": "execute_result"
    },
    {
     "data": {
      "image/png": "[encoded data removed]",
      "text/plain": [
       "<Figure size 432x288 with 1 Axes>"
      ]
     },
     "metadata": {
      "needs_background": "light"
     },
     "output_type": "display_data"
    }
   ],
   "source": [
    "plt.plot(tot_loss)"
   ]
  },
  {
   "cell_type": "code",
   "execution_count": 150,
   "id": "3190cdaf",
   "metadata": {},
   "outputs": [
    {
     "data": {
      "text/plain": [
       "[<matplotlib.lines.Line2D at 0x147fd6309e8>]"
      ]
     },
     "execution_count": 150,
     "metadata": {},
     "output_type": "execute_result"
    },
    {
     "data": {
      "image/png": "[encoded data removed]",
      "text/plain": [
       "<Figure size 432x288 with 1 Axes>"
      ]
     },
     "metadata": {
      "needs_background": "light"
     },
     "output_type": "display_data"
    }
   ],
   "source": [
    "#Plot\n",
    "plt.plot(tot_rewards)"
   ]
  },
  {
   "cell_type": "code",
   "execution_count": null,
   "id": "2878f86c",
   "metadata": {
    "scrolled": false
   },
   "outputs": [],
   "source": [
    "#Render the final environment\n",
    "state, info = env.reset(seed=42, return_info=True)\n",
    "import time\n",
    "for i in range(1000):\n",
    "    \n",
    "    env.render()\n",
    "    \n",
    "    state = torch.tensor(state, dtype=torch.float32)\n",
    "    action = np.argmax(model(state).detach().numpy())\n",
    "    state, reward, done, info = env.step(action)\n",
    "\n",
    "    if done:\n",
    "        state, info = env.reset(return_info=True)\n",
    "env.close()\n"
   ]
  },
  {
   "cell_type": "code",
   "execution_count": null,
   "id": "093add2f",
   "metadata": {},
   "outputs": [],
   "source": []
  }
 ],
 "metadata": {
  "kernelspec": {
   "display_name": "Python 3",
   "language": "python",
   "name": "python3"
  },
  "language_info": {
   "codemirror_mode": {
    "name": "ipython",
    "version": 3
   },
   "file_extension": ".py",
   "mimetype": "text/x-python",
   "name": "python",
   "nbconvert_exporter": "python",
   "pygments_lexer": "ipython3",
   "version": "3.6.15"
  }
 },
 "nbformat": 4,
 "nbformat_minor": 5
}
