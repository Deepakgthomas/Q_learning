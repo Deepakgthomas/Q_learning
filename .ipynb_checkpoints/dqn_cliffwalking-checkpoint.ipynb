{
 "cells": [
  {
   "cell_type": "code",
   "execution_count": 11,
   "id": "2f30013f",
   "metadata": {},
   "outputs": [],
   "source": [
    "# Here we import all libraries\n",
    "import numpy as np\n",
    "import gym\n",
    "import matplotlib.pyplot as plt\n",
    "import os\n",
    "import torch\n",
    "import random\n",
    "from torch import nn\n",
    "from torch.utils.data import DataLoader\n",
    "from torchvision import datasets, transforms\n",
    "from collections import deque \n",
    "import sys\n",
    "env = gym.make(\"CliffWalking-v0\")"
   ]
  },
  {
   "cell_type": "code",
   "execution_count": 12,
   "id": "63c20bea",
   "metadata": {},
   "outputs": [],
   "source": [
    "#Hyperparameters\n",
    "episodes = 5000\n",
    "eps = 1.0\n",
    "learning_rate = 0.1\n",
    "discount_factor = 0.99\n",
    "tot_rewards = []\n",
    "decay_val = 0.001\n",
    "mem_size = 50000\n",
    "batch_size = 2\n",
    "gamma = 0.99"
   ]
  },
  {
   "cell_type": "code",
   "execution_count": 13,
   "id": "356612d0",
   "metadata": {},
   "outputs": [],
   "source": [
    "class NeuralNetwork(nn.Module):\n",
    "    def __init__(self, state_size, action_size):\n",
    "        super(NeuralNetwork, self).__init__()\n",
    "        self.state_size = state_size\n",
    "        self.action_size = action_size\n",
    "        self.linear_relu_stack = nn.Sequential(\n",
    "            nn.Linear(1, 30),\n",
    "            nn.ReLU(),\n",
    "            nn.Linear(30, 30),\n",
    "            nn.ReLU(),\n",
    "            nn.Linear(30, action_size)\n",
    "        )\n",
    "    def forward(self, x):\n",
    "        x = self.linear_relu_stack(x)\n",
    "        return x"
   ]
  },
  {
   "cell_type": "code",
   "execution_count": 14,
   "id": "2a48df98",
   "metadata": {},
   "outputs": [],
   "source": [
    "model = NeuralNetwork(env.observation_space.n, env.action_space.n)\n",
    "opt = torch.optim.Adam(params=model.parameters(), lr=learning_rate)\n",
    "loss = nn.MSELoss()\n",
    "replay_buffer = deque(maxlen=mem_size)"
   ]
  },
  {
   "cell_type": "code",
   "execution_count": 15,
   "id": "5f5953d9",
   "metadata": {},
   "outputs": [],
   "source": [
    "state = torch.tensor(env.reset(), dtype=torch.float32)\n",
    "state = state.unsqueeze(dim=0)\n",
    "out = model(state)"
   ]
  },
  {
   "cell_type": "code",
   "execution_count": 16,
   "id": "9582dac6",
   "metadata": {},
   "outputs": [],
   "source": [
    "def compute_td_loss(batch_size):\n",
    "    state, next_state, reward, done, action = zip(*random.sample(replay_buffer, batch_size))\n",
    "    state = torch.from_numpy(np.array(state).reshape(-1, 1)).unsqueeze(dim = 0).type(torch.float32)\n",
    "    next_state = torch.from_numpy(np.array(next_state).reshape(-1, 1)).unsqueeze(dim = 0).type(torch.float32)\n",
    "    reward = torch.from_numpy(np.array(reward))\n",
    "    done = torch.from_numpy(np.array(done))\n",
    "    action = torch.from_numpy(np.array(action)).type(torch.int64)\n",
    "    q_values = model(state)\n",
    "    next_q_values = model(next_state)\n",
    "    q_vals = q_values.squeeze().gather(dim=-1, index=action.reshape(-1,1)).reshape(1, -1)\n",
    "    max_next_q_values = torch.max(next_q_values,2)[0].detach()\n",
    "\n",
    "    loss = 0.5*((reward + gamma*max_next_q_values - q_vals)**2).mean()\n",
    "\n",
    "    opt.zero_grad()\n",
    "    loss.backward()\n",
    "    opt.step()\n",
    "    return loss\n",
    "    "
   ]
  },
  {
   "cell_type": "code",
   "execution_count": 17,
   "id": "6d21954b",
   "metadata": {},
   "outputs": [
    {
     "name": "stdout",
     "output_type": "stream",
     "text": [
      "Episode =  0\n",
      "Episode =  1\n"
     ]
    },
    {
     "ename": "KeyboardInterrupt",
     "evalue": "",
     "output_type": "error",
     "traceback": [
      "\u001b[1;31m---------------------------------------------------------------------------\u001b[0m",
      "\u001b[1;31mKeyboardInterrupt\u001b[0m                         Traceback (most recent call last)",
      "\u001b[1;32m<ipython-input-17-83bd35632127>\u001b[0m in \u001b[0;36m<module>\u001b[1;34m\u001b[0m\n\u001b[0;32m     10\u001b[0m         \u001b[1;32melse\u001b[0m\u001b[1;33m:\u001b[0m\u001b[1;33m\u001b[0m\u001b[1;33m\u001b[0m\u001b[0m\n\u001b[0;32m     11\u001b[0m             \u001b[0mstate\u001b[0m \u001b[1;33m=\u001b[0m \u001b[0mtorch\u001b[0m\u001b[1;33m.\u001b[0m\u001b[0mtensor\u001b[0m\u001b[1;33m(\u001b[0m\u001b[0mstate\u001b[0m\u001b[1;33m,\u001b[0m \u001b[0mdtype\u001b[0m\u001b[1;33m=\u001b[0m\u001b[0mtorch\u001b[0m\u001b[1;33m.\u001b[0m\u001b[0mfloat32\u001b[0m\u001b[1;33m)\u001b[0m\u001b[1;33m\u001b[0m\u001b[1;33m\u001b[0m\u001b[0m\n\u001b[1;32m---> 12\u001b[1;33m             \u001b[0mstate\u001b[0m \u001b[1;33m=\u001b[0m \u001b[0mstate\u001b[0m\u001b[1;33m.\u001b[0m\u001b[0munsqueeze\u001b[0m\u001b[1;33m(\u001b[0m\u001b[0mdim\u001b[0m\u001b[1;33m=\u001b[0m\u001b[1;36m0\u001b[0m\u001b[1;33m)\u001b[0m\u001b[1;33m\u001b[0m\u001b[1;33m\u001b[0m\u001b[0m\n\u001b[0m\u001b[0;32m     13\u001b[0m             \u001b[0maction\u001b[0m \u001b[1;33m=\u001b[0m \u001b[0mnp\u001b[0m\u001b[1;33m.\u001b[0m\u001b[0margmax\u001b[0m\u001b[1;33m(\u001b[0m\u001b[0mmodel\u001b[0m\u001b[1;33m(\u001b[0m\u001b[0mstate\u001b[0m\u001b[1;33m)\u001b[0m\u001b[1;33m.\u001b[0m\u001b[0mdetach\u001b[0m\u001b[1;33m(\u001b[0m\u001b[1;33m)\u001b[0m\u001b[1;33m.\u001b[0m\u001b[0mnumpy\u001b[0m\u001b[1;33m(\u001b[0m\u001b[1;33m)\u001b[0m\u001b[1;33m)\u001b[0m\u001b[1;33m\u001b[0m\u001b[1;33m\u001b[0m\u001b[0m\n\u001b[0;32m     14\u001b[0m         \u001b[0mnext_state\u001b[0m\u001b[1;33m,\u001b[0m \u001b[0mreward\u001b[0m\u001b[1;33m,\u001b[0m \u001b[0mdone\u001b[0m\u001b[1;33m,\u001b[0m \u001b[0minfo\u001b[0m \u001b[1;33m=\u001b[0m \u001b[0menv\u001b[0m\u001b[1;33m.\u001b[0m\u001b[0mstep\u001b[0m\u001b[1;33m(\u001b[0m\u001b[0maction\u001b[0m\u001b[1;33m)\u001b[0m\u001b[1;33m\u001b[0m\u001b[1;33m\u001b[0m\u001b[0m\n",
      "\u001b[1;31mKeyboardInterrupt\u001b[0m: "
     ]
    }
   ],
   "source": [
    "for i in range(episodes):\n",
    "    print(\"Episode = \", i)\n",
    "    state = env.reset()\n",
    "    done = False\n",
    "    steps = 0\n",
    "    eps_rew = 0 \n",
    "    while not done and steps<50:\n",
    "        if np.random.uniform(0,1)<eps:\n",
    "            action = env.action_space.sample()\n",
    "        else:\n",
    "            state = torch.tensor(state, dtype=torch.float32)\n",
    "            state = state.unsqueeze(dim=0)\n",
    "            action = np.argmax(model(state).detach().numpy())\n",
    "        next_state, reward, done, info = env.step(action)\n",
    "        replay_buffer.append((state, next_state, reward, done, action))\n",
    "        if len(replay_buffer)>batch_size:\n",
    "            loss = compute_td_loss(batch_size)\n",
    "        eps = eps/(1 + 0.001)\n",
    "        eps_rew += reward \n",
    "        if done:\n",
    "            break\n",
    "        state = next_state\n",
    "        steps += steps\n",
    "    tot_rewards.append(eps_rew)"
   ]
  },
  {
   "cell_type": "code",
   "execution_count": null,
   "id": "684ebad4",
   "metadata": {},
   "outputs": [],
   "source": []
  },
  {
   "cell_type": "code",
   "execution_count": null,
   "id": "642bd9d3",
   "metadata": {},
   "outputs": [],
   "source": []
  }
 ],
 "metadata": {
  "kernelspec": {
   "display_name": "Python 3",
   "language": "python",
   "name": "python3"
  },
  "language_info": {
   "codemirror_mode": {
    "name": "ipython",
    "version": 3
   },
   "file_extension": ".py",
   "mimetype": "text/x-python",
   "name": "python",
   "nbconvert_exporter": "python",
   "pygments_lexer": "ipython3",
   "version": "3.6.9"
  }
 },
 "nbformat": 4,
 "nbformat_minor": 5
}
