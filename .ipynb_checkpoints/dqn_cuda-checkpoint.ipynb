{
 "cells": [
  {
   "cell_type": "code",
   "execution_count": 1,
   "id": "2f30013f",
   "metadata": {},
   "outputs": [
    {
     "name": "stderr",
     "output_type": "stream",
     "text": [
      "C:\\Users\\thoma\\anaconda3\\envs\\torch_1\\lib\\site-packages\\gym\\core.py:317: DeprecationWarning: \u001b[33mWARN: Initializing wrapper in old step API which returns one bool instead of two. It is recommended to set `new_step_api=True` to use new step API. This will be the default behaviour in future.\u001b[0m\n",
      "  deprecation(\n",
      "C:\\Users\\thoma\\anaconda3\\envs\\torch_1\\lib\\site-packages\\gym\\wrappers\\step_api_compatibility.py:39: DeprecationWarning: \u001b[33mWARN: Initializing environment in old step API which returns one bool instead of two. It is recommended to set `new_step_api=True` to use new step API. This will be the default behaviour in future.\u001b[0m\n",
      "  deprecation(\n"
     ]
    }
   ],
   "source": [
    "# Here we import all libraries\n",
    "import numpy as np\n",
    "import gym\n",
    "import matplotlib.pyplot as plt\n",
    "import os\n",
    "import torch\n",
    "import random\n",
    "from torch import nn\n",
    "from torch.utils.data import DataLoader\n",
    "from torchvision import datasets, transforms\n",
    "from collections import deque \n",
    "import torchvision as tv\n",
    "import torch.nn.functional as F\n",
    "import sys\n",
    "env = gym.make(\"ALE/Pong-v5\")"
   ]
  },
  {
   "cell_type": "code",
   "execution_count": 2,
   "id": "7b5f9f60",
   "metadata": {},
   "outputs": [],
   "source": [
    "device = torch.device(\"cuda:0\" if torch.cuda.is_available() else \"cpu\")\n"
   ]
  },
  {
   "cell_type": "code",
   "execution_count": 3,
   "id": "63c20bea",
   "metadata": {},
   "outputs": [],
   "source": [
    "#Hyperparameters\n",
    "episodes = 20000*10\n",
    "eps = 1.0\n",
    "learning_rate = 0.001\n",
    "tot_rewards = []\n",
    "tot_loss = []\n",
    "decay_val = 0.0001\n",
    "mem_size = 100000\n",
    "batch_size = 128\n",
    "gamma = 0.99\n",
    "update_target = 100\n",
    "max_steps = 200\n",
    "PATH = \"./saved_models/pong\""
   ]
  },
  {
   "cell_type": "code",
   "execution_count": 4,
   "id": "356612d0",
   "metadata": {},
   "outputs": [],
   "source": [
    "class NeuralNetwork(nn.Module):\n",
    "    def __init__(self, state_size, action_size):\n",
    "        super(NeuralNetwork, self).__init__()\n",
    "        self.state_size = state_size\n",
    "        self.action_size = action_size\n",
    "        self.grayscale = tv.transforms.Grayscale()\n",
    "        self.conv1 = nn.Conv2d(1,6,5)\n",
    "        self.pool = nn.MaxPool2d(2,2)\n",
    "        self.conv2 = nn.Conv2d(6,16,5)\n",
    "        self.fc1 = nn.Linear(29008, 120)\n",
    "        self.fc2 = nn.Linear(120, 84)\n",
    "        self.fc3 = nn.Linear(84, action_size)\n",
    "        \n",
    "    def forward(self, x):\n",
    "        x = self.grayscale(x)\n",
    "        x = self.pool(F.relu(self.conv1(x)))\n",
    "        x = self.pool(F.relu(self.conv2(x)))\n",
    "        x = torch.flatten(x, 1)\n",
    "        x = F.relu(self.fc1(x))\n",
    "        x = F.relu(self.fc2(x))\n",
    "        x = self.fc3(x)\n",
    "        return x"
   ]
  },
  {
   "cell_type": "code",
   "execution_count": 5,
   "id": "2a48df98",
   "metadata": {},
   "outputs": [
    {
     "name": "stdout",
     "output_type": "stream",
     "text": [
      "3\n"
     ]
    }
   ],
   "source": [
    "print(env.observation_space.shape[2])\n",
    "model = NeuralNetwork(env.observation_space.shape[2], env.action_space.n).to(device)\n",
    "target = NeuralNetwork(env.observation_space.shape[2], env.action_space.n).to(device)\n",
    "\n",
    "opt = torch.optim.Adam(params=model.parameters(), lr=learning_rate)\n",
    "replay_buffer = deque(maxlen=mem_size)"
   ]
  },
  {
   "cell_type": "code",
   "execution_count": 6,
   "id": "9582dac6",
   "metadata": {},
   "outputs": [],
   "source": [
    "def compute_td_loss(batch_size):\n",
    "    state, next_state, reward, done, action = zip(*random.sample(replay_buffer, batch_size))\n",
    "    state = torch.stack(list(state), dim=0).squeeze(1)\n",
    "    state= state.reshape(batch_size, 3, 210, 160).to(device)\n",
    "    next_state = torch.from_numpy(np.array(next_state)).reshape(batch_size, 3, 210, 160).type(torch.float32).to(device)\n",
    "    reward = torch.from_numpy(np.array(reward)).to(device)\n",
    "    done = torch.from_numpy(np.array(done)).long().to(device)\n",
    "    action = torch.from_numpy(np.array(action)).type(torch.int64).to(device)\n",
    "    q_values = model(state)\n",
    "    next_q_values = target(next_state)\n",
    "    q_vals = q_values.gather(dim=-1, index=action.reshape(-1,1))\n",
    "    max_next_q_values = torch.max(next_q_values,-1)[0].detach()\n",
    "    loss = ((reward + gamma*max_next_q_values*(1-done) - q_vals.squeeze())**2).mean()\n",
    "    opt.zero_grad()\n",
    "    loss.backward()\n",
    "    opt.step()\n",
    "    return loss\n",
    "    "
   ]
  },
  {
   "cell_type": "code",
   "execution_count": 7,
   "id": "6d21954b",
   "metadata": {},
   "outputs": [],
   "source": [
    "if os.path.exists(PATH):\n",
    "    model.load_state_dict(torch.load(PATH))\n",
    "else:\n",
    "    frame_index = 0\n",
    "    for i in range(episodes):\n",
    "        state = torch.tensor(env.reset(), dtype=torch.float32).unsqueeze(0)\n",
    "        state= state.reshape(1, 3, 210, 160)\n",
    "        done = False\n",
    "        steps = 0\n",
    "        eps_rew = 0 \n",
    "        eps_loss = 0\n",
    "        while not done and steps<max_steps:\n",
    "            print(\"frame_index = \", frame_index, \"episode = \", i)\n",
    "            if np.random.uniform(0,1)<eps:\n",
    "                action = env.action_space.sample()\n",
    "            else:\n",
    "                action = torch.argmax(model(state.to(device))).cpu().detach().numpy()\n",
    "\n",
    "\n",
    "            next_state, reward, done, info = env.step(action)\n",
    "            replay_buffer.append((state, next_state, reward, done, action))\n",
    "#             if len(replay_buffer)>batch_size and steps%4==0:\n",
    "            if len(replay_buffer)==mem_size:\n",
    "                loss = compute_td_loss(batch_size)\n",
    "                eps_loss += loss.cpu().detach().numpy()\n",
    "            eps = eps/(1 + decay_val)\n",
    "            eps_rew += reward \n",
    "\n",
    "            if steps%50==0:\n",
    "                target.load_state_dict(model.state_dict())\n",
    "\n",
    "            if done:\n",
    "                tot_rewards.append(eps_rew)\n",
    "                break\n",
    "\n",
    "            state = torch.tensor(next_state, dtype=torch.float32).unsqueeze(0)\n",
    "            state= state.reshape(1, 3, 210, 160)\n",
    "            steps += 1\n",
    "            frame_index += 1\n",
    "        tot_rewards.append(eps_rew)\n",
    "        tot_loss.append(eps_loss)\n",
    "\n",
    "        if(frame_index%5000)==0:\n",
    "            np.savetxt(\"tot_rewards.csv\", np.array(tot_rewards), delimiter=' ', fmt='%s')\n",
    "            torch.save(model.state_dict(), PATH)\n",
    "    torch.save(model.state_dict(), PATH)"
   ]
  },
  {
   "cell_type": "code",
   "execution_count": null,
   "id": "580ef5b0",
   "metadata": {},
   "outputs": [],
   "source": []
  }
 ],
 "metadata": {
  "kernelspec": {
   "display_name": "Python 3 (ipykernel)",
   "language": "python",
   "name": "python3"
  },
  "language_info": {
   "codemirror_mode": {
    "name": "ipython",
    "version": 3
   },
   "file_extension": ".py",
   "mimetype": "text/x-python",
   "name": "python",
   "nbconvert_exporter": "python",
   "pygments_lexer": "ipython3",
   "version": "3.10.6"
  }
 },
 "nbformat": 4,
 "nbformat_minor": 5
}
